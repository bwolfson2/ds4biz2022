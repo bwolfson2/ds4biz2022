{
 "cells": [
  {
   "cell_type": "markdown",
   "metadata": {
    "id": "XaTzHRkCbf-X"
   },
   "source": [
    "To open notebook in Colab please click below:\n",
    "<a href=\"https://colab.research.google.com/github/bwolfson2/dsclass2022/blob/main/Module_4_Trees/Module%204%20Recursive%20Partitioning.ipynb\" target=\"_parent\"> <img src=\"https://colab.research.google.com/assets/colab-badge.svg\" alt=\"Open In Colab\" /> </a>'"
   ]
  },
  {
   "cell_type": "markdown",
   "metadata": {},
   "source": [
    "<span style=\"font-family: Palatino; font-size: 40px; color: purple\">\n",
    "             Recursive Partitionin and Tree Models\n",
    "</span>\n",
    "\n",
    "\n",
    "Spring 2022 - Instructors: Roger Stein and Ben Wolfson -\n",
    "***"
   ]
  },
  {
   "cell_type": "code",
   "execution_count": 55,
   "metadata": {
    "colab": {
     "base_uri": "https://localhost:8080/"
    },
    "id": "o27tIlWJbf-f",
    "outputId": "37707040-3cc1-4314-e7a6-73bc8950d164",
    "scrolled": true
   },
   "outputs": [],
   "source": [
    "#If opening in colab run this cell\n",
    "#!git clone https://github.com/bwolfson2/foster_2021\n",
    "#%cd foster_2021/Module2_Supervised/"
   ]
  },
  {
   "cell_type": "code",
   "execution_count": 56,
   "metadata": {},
   "outputs": [
    {
     "data": {
      "text/html": [
       "\n",
       "\n",
       "    <STYLE type=\"text/css\">\n",
       "       H1 {font-family: Palatino; font-size: 30px; color: purple}\n",
       "    </STYLE>\n",
       "\n"
      ],
      "text/plain": [
       "<IPython.core.display.HTML object>"
      ]
     },
     "execution_count": 56,
     "metadata": {},
     "output_type": "execute_result"
    }
   ],
   "source": [
    "from IPython.core.display import HTML\n",
    "\n",
    "HTML(\"\"\"\n",
    "\n",
    "    <STYLE type=\"text/css\">\n",
    "       H1 {font-family: Palatino; font-size: 30px; color: purple}\n",
    "    </STYLE>\n",
    "\n",
    "\"\"\")"
   ]
  },
  {
   "cell_type": "markdown",
   "metadata": {
    "id": "X8u8aHhWbf-l"
   },
   "source": [
    "# Set-up and housekeeping"
   ]
  },
  {
   "cell_type": "markdown",
   "metadata": {
    "id": "X8u8aHhWbf-l"
   },
   "source": [
    "## Some general imports"
   ]
  },
  {
   "cell_type": "code",
   "execution_count": 30,
   "metadata": {
    "id": "kuSW0WuBbf-l"
   },
   "outputs": [],
   "source": [
    "import os\n",
    "import numpy as np\n",
    "import pandas as pd\n",
    "import math\n",
    "import matplotlib.pylab as plt\n",
    "import seaborn as sns\n",
    "import matplotlib.patches as mpatches\n",
    "\n",
    "%matplotlib inline\n",
    "sns.set(style='ticks', palette='Set2')"
   ]
  },
  {
   "cell_type": "markdown",
   "metadata": {
    "heading_collapsed": true
   },
   "source": [
    "## Define some helper functions that we will use later"
   ]
  },
  {
   "cell_type": "markdown",
   "metadata": {
    "hidden": true,
    "id": "hZ9Nt8jgbf-x"
   },
   "source": [
    "### Performance measure utilities"
   ]
  },
  {
   "cell_type": "markdown",
   "metadata": {
    "hidden": true,
    "id": "hZ9Nt8jgbf-x"
   },
   "source": [
    "#### Entropy and IG"
   ]
  },
  {
   "cell_type": "code",
   "execution_count": 31,
   "metadata": {
    "code_folding": [
     0,
     14
    ],
    "hidden": true,
    "id": "dYNk3OSgbf-x",
    "run_control": {
     "marked": true
    }
   },
   "outputs": [],
   "source": [
    "def entropy(target_column):\n",
    "    \"\"\"\n",
    "        computes -sum_i p_i * log_2 (p_i) for each i\n",
    "    \"\"\"\n",
    "    # get the counts of each target value\n",
    "    target_counts = target_column.value_counts().astype(float).values\n",
    "    total = target_column.count()  \n",
    "    # compute probas\n",
    "    probas = target_counts/total\n",
    "    # p_i * log_2 (p_i)\n",
    "    entropy_components = probas * np.log2(probas)\n",
    "    # return negative sum\n",
    "    return - entropy_components.sum()\n",
    "\n",
    "def information_gain(df, info_column, target_column, threshold):\n",
    "    \"\"\"\n",
    "        computes H(target) - H(target | info > thresh) - H(target | info <= thresh)\n",
    "    \"\"\"\n",
    "    # split data\n",
    "    data_above_thresh = df[df[info_column] > threshold]\n",
    "    data_below_thresh = df[df[info_column] <= threshold]\n",
    "    # get entropy\n",
    "    H = entropy(df[target_column])\n",
    "    entropy_above = entropy(data_above_thresh[target_column])\n",
    "    entropy_below = entropy(data_below_thresh[target_column])\n",
    "    # compute weighted average\n",
    "    ct_above = data_above_thresh.shape[0]\n",
    "    ct_below = data_below_thresh.shape[0]\n",
    "    tot = float(df.shape[0])\n",
    "    return H - entropy_above*ct_above/tot - entropy_below*ct_below/tot "
   ]
  },
  {
   "cell_type": "markdown",
   "metadata": {
    "hidden": true
   },
   "source": [
    "#### Accuracy"
   ]
  },
  {
   "cell_type": "code",
   "execution_count": 32,
   "metadata": {
    "code_folding": [
     0
    ],
    "hidden": true
   },
   "outputs": [],
   "source": [
    "def cm2accuracy(tab):                    # convert 2x2 confusion matrix to accuracy (pct correct)\n",
    "    correct  = (tab[0][0] + tab[1][1])\n",
    "    total    = sum(sum(tab))\n",
    "    accuracy = correct/total\n",
    "    return(accuracy)"
   ]
  },
  {
   "cell_type": "markdown",
   "metadata": {
    "hidden": true
   },
   "source": [
    "### Visualization"
   ]
  },
  {
   "cell_type": "code",
   "execution_count": 33,
   "metadata": {
    "code_folding": [
     0
    ],
    "hidden": true
   },
   "outputs": [],
   "source": [
    "def bool2txt(x,text):\n",
    "    if x==0 : \n",
    "        return text[0]\n",
    "    else: \n",
    "        return text[1]"
   ]
  },
  {
   "cell_type": "code",
   "execution_count": 34,
   "metadata": {
    "code_folding": [
     2
    ],
    "colab": {
     "base_uri": "https://localhost:8080/",
     "height": 464
    },
    "hidden": true,
    "id": "19kI_nxXbf_F",
    "outputId": "80d31083-7c51-47d1-e1e3-1bf4ec25c858"
   },
   "outputs": [],
   "source": [
    "import copy as c\n",
    "def Decision_Surface(data, col1, col2, target, orig_model, probabilities=False):\n",
    "    # Get bounds\n",
    "    x_min, x_max = data[col1].min(), data[col1].max()\n",
    "    y_min, y_max = data[col2].min(), data[col2].max()\n",
    "\n",
    "    # ipdb.set_trace()  # insert this line into any Python code for debugging.  'n' in the dialog box moves to the next line of code\n",
    "    \n",
    "    # Create a mesh\n",
    "    xx, yy = np.meshgrid(np.arange(x_min, x_max, 0.5), np.arange(y_min, y_max,0.5))\n",
    "    meshed_data = pd.DataFrame(np.c_[xx.ravel(), yy.ravel()])\n",
    "    # Get predictions for the mesh\n",
    "    tdf = data[[col1, col2]]\n",
    "    # make a copy of the model so we don't corrupt the original\n",
    "    model = c.deepcopy(orig_model)\n",
    "    model.fit(tdf, target)\n",
    "    if probabilities:\n",
    "        Z = model.predict_proba(meshed_data)[:, 1].reshape(xx.shape)\n",
    "    else:\n",
    "        Z = model.predict(meshed_data).reshape(xx.shape)  \n",
    "        \n",
    "    # Chart details\n",
    "    plt.figure(figsize=[12,7])\n",
    "    plt.title(\"Decision surface\")    \n",
    "    plt.xlabel(col1)\n",
    "    plt.ylabel(col2)\n",
    "    if probabilities:\n",
    "        # Color-scale on the contour (surface = separator)\n",
    "        cs = plt.contourf(xx, yy, Z, cmap=plt.cm.coolwarm_r, alpha=0.4)\n",
    "    else:\n",
    "        # Only a curve/line on the contour (surface = separator)\n",
    "        cs = plt.contourf(xx, yy, Z, levels=[-1,0,1], cmap=plt.cm.coolwarm_r, alpha=0.4)\n",
    "    # Plot scatter plot    \n",
    "    cmap = {1: 'blue', 0: 'red'}\n",
    "    colors = [cmap[c] for c in df[target_col]]\n",
    "    plt.scatter(data[col1], data[col2], color=colors)\n",
    "    # Build legend\n",
    "    plt.legend(handles=[mpatches.Patch(color=cmap[k], label=k) for k in cmap], loc=\"best\", title=\"target\", frameon=True)\n",
    "    plt.show() \n",
    "    "
   ]
  },
  {
   "cell_type": "code",
   "execution_count": 35,
   "metadata": {
    "code_folding": [],
    "hidden": true,
    "run_control": {
     "marked": true
    }
   },
   "outputs": [],
   "source": [
    "def visualize_tree(decision_tree, feature_names, class_names, directory=\"./images\", name=\"tree\",proportion=True):\n",
    "    # Export our decision tree to graphviz format\n",
    "    dot_name = \"%s/%s.dot\" % (directory, name)\n",
    "    dot_file = export_graphviz(decision_tree, out_file=dot_name,\n",
    "                               feature_names=feature_names, class_names=class_names,proportion=proportion)\n",
    "    # Call graphviz to make an image file from our decision tree\n",
    "    image_name = \"%s/%s.png\" % (directory, name)\n",
    "    os.system(\"dot -T png %s -o %s\" % (dot_name, image_name))\n",
    "    # Return the .png image so we can see it\n",
    "    return Image(filename=image_name)"
   ]
  },
  {
   "cell_type": "markdown",
   "metadata": {
    "id": "pWoPLvYXbf-m"
   },
   "source": [
    "# Doing some more data science: Revisiting who will survive the Titanic"
   ]
  },
  {
   "cell_type": "markdown",
   "metadata": {
    "id": "t_JA1erfbf-n"
   },
   "source": [
    "This time we will use a clasic introductory dataset that contains demographic and traveling information for the Titanic passengers. The goal is to predict the survival of these passengers. We will only keep a few variables of interest and transform all of them to numeric variables. We will also drop some outliers."
   ]
  },
  {
   "cell_type": "code",
   "execution_count": 57,
   "metadata": {
    "colab": {
     "base_uri": "https://localhost:8080/",
     "height": 363
    },
    "id": "Jux0umIEbf-p",
    "outputId": "d5608942-b1f9-463e-d73e-a363c3e5c57c"
   },
   "outputs": [
    {
     "data": {
      "text/html": [
       "<div><div id=4662d801-86a4-4169-9b83-ecad56c94093 style=\"display:none; background-color:#9D6CFF; color:white; width:200px; height:30px; padding-left:5px; border-radius:4px; flex-direction:row; justify-content:space-around; align-items:center;\" onmouseover=\"this.style.backgroundColor='#BA9BF8'\" onmouseout=\"this.style.backgroundColor='#9D6CFF'\" onclick=\"window.commands?.execute('create-mitosheet-from-dataframe-output');\">See Full Dataframe in Mito</div> <script> if (window.commands.hasCommand('create-mitosheet-from-dataframe-output')) document.getElementById('4662d801-86a4-4169-9b83-ecad56c94093').style.display = 'flex' </script> <table border=\"1\" class=\"dataframe\">\n",
       "  <thead>\n",
       "    <tr style=\"text-align: right;\">\n",
       "      <th></th>\n",
       "      <th>name</th>\n",
       "      <th>survived</th>\n",
       "      <th>pclass</th>\n",
       "      <th>age</th>\n",
       "      <th>fare</th>\n",
       "      <th>home_dest</th>\n",
       "      <th>female</th>\n",
       "    </tr>\n",
       "  </thead>\n",
       "  <tbody>\n",
       "    <tr>\n",
       "      <th>0</th>\n",
       "      <td>Allen, Miss. Elisabeth Walton</td>\n",
       "      <td>1</td>\n",
       "      <td>1</td>\n",
       "      <td>29.0000</td>\n",
       "      <td>211.3375</td>\n",
       "      <td>St Louis, MO</td>\n",
       "      <td>1</td>\n",
       "    </tr>\n",
       "    <tr>\n",
       "      <th>1</th>\n",
       "      <td>Allison, Master. Hudson Trevor</td>\n",
       "      <td>1</td>\n",
       "      <td>1</td>\n",
       "      <td>0.9167</td>\n",
       "      <td>151.5500</td>\n",
       "      <td>Montreal, PQ / Chesterville, ON</td>\n",
       "      <td>0</td>\n",
       "    </tr>\n",
       "    <tr>\n",
       "      <th>2</th>\n",
       "      <td>Allison, Miss. Helen Loraine</td>\n",
       "      <td>0</td>\n",
       "      <td>1</td>\n",
       "      <td>2.0000</td>\n",
       "      <td>151.5500</td>\n",
       "      <td>Montreal, PQ / Chesterville, ON</td>\n",
       "      <td>1</td>\n",
       "    </tr>\n",
       "    <tr>\n",
       "      <th>3</th>\n",
       "      <td>Allison, Mr. Hudson Joshua Creighton</td>\n",
       "      <td>0</td>\n",
       "      <td>1</td>\n",
       "      <td>30.0000</td>\n",
       "      <td>151.5500</td>\n",
       "      <td>Montreal, PQ / Chesterville, ON</td>\n",
       "      <td>0</td>\n",
       "    </tr>\n",
       "    <tr>\n",
       "      <th>4</th>\n",
       "      <td>Allison, Mrs. Hudson J C (Bessie Waldo Daniels)</td>\n",
       "      <td>0</td>\n",
       "      <td>1</td>\n",
       "      <td>25.0000</td>\n",
       "      <td>151.5500</td>\n",
       "      <td>Montreal, PQ / Chesterville, ON</td>\n",
       "      <td>1</td>\n",
       "    </tr>\n",
       "  </tbody>\n",
       "</table></div>"
      ],
      "text/plain": [
       "                                              name  survived  pclass      age  \\\n",
       "0                    Allen, Miss. Elisabeth Walton         1       1  29.0000   \n",
       "1                   Allison, Master. Hudson Trevor         1       1   0.9167   \n",
       "2                     Allison, Miss. Helen Loraine         0       1   2.0000   \n",
       "3             Allison, Mr. Hudson Joshua Creighton         0       1  30.0000   \n",
       "4  Allison, Mrs. Hudson J C (Bessie Waldo Daniels)         0       1  25.0000   \n",
       "\n",
       "       fare                        home_dest  female  \n",
       "0  211.3375                     St Louis, MO       1  \n",
       "1  151.5500  Montreal, PQ / Chesterville, ON       0  \n",
       "2  151.5500  Montreal, PQ / Chesterville, ON       1  \n",
       "3  151.5500  Montreal, PQ / Chesterville, ON       0  \n",
       "4  151.5500  Montreal, PQ / Chesterville, ON       1  "
      ]
     },
     "execution_count": 57,
     "metadata": {},
     "output_type": "execute_result"
    }
   ],
   "source": [
    "# Load Data\n",
    "path=\"./data/\"\n",
    "fn = \"titanic.csv\"\n",
    "full_path= path+fn\n",
    "df = pd.read_csv(full_path)[[\"name\", \"survived\", \"pclass\", \"sex\", \"age\", \"fare\",\"home_dest\"]].dropna()\n",
    "df[\"female\"] = (df.sex == \"female\").astype(int)\n",
    "df = df.drop(\"sex\", axis=\"columns\")\n",
    "\n",
    "# Drop outliers. This is to help the visualization in the next examples.\n",
    "# --> In general, identifying and determining whether / how to deal with outliers is non-trival\n",
    "df = df[df.fare < 400]\n",
    "\n",
    "categorical_cols = [\"pclass\", \"female\"]\n",
    "continuous_cols = [\"age\", \"fare\"]\n",
    "target_col = \"survived\"\n",
    "predictor_cols = categorical_cols + continuous_cols\n",
    "\n",
    "df.head()"
   ]
  },
  {
   "cell_type": "markdown",
   "metadata": {
    "id": "Ad_cAWI0bf_A"
   },
   "source": [
    "## The Classifier Tree: Recursive Splitting"
   ]
  },
  {
   "cell_type": "markdown",
   "metadata": {},
   "source": [
    "Another way to predict the outcomomes for Titanic passengers is to use recursive partitioning (RP) algorithms.   \n"
   ]
  },
  {
   "cell_type": "markdown",
   "metadata": {},
   "source": [
    "## Formalizing some of the intuition from EDA"
   ]
  },
  {
   "cell_type": "markdown",
   "metadata": {
    "id": "v4hWZ0NAbf-x"
   },
   "source": [
    "***\n",
    "\n",
    "\n",
    "**Entropy** ($H$) and **information gain** ($IG$) are useful tools for measuring the effectiveness of a split on the data. Entropy measures how random data is, information gain is a measure of the reduction in randomness after performing a split.\n",
    "\n",
    "<table style=\"border: 0px\">\n",
    "<tr style=\"border: 0px\">\n",
    "<td style=\"border: 0px\"><img src=\"https://github.com/bwolfson2/foster_2020/blob/master/Module2_Supervised/images/dsfb_0304.png?raw=1\" height=80% width=80%>\n",
    "Figure 3-4. Splitting the \"write-off\" sample into two segments, based on splitting the Balance attribute (account balance) at 50K.</td>\n",
    "<td style=\"border: 0px; width: 30px\"></td>\n",
    "<td style=\"border: 0px\"><img src=\"https://github.com/bwolfson2/foster_2020/blob/master/Module2_Supervised/images/dsfb_0305.png?raw=1\" height=75% width=75%>\n",
    "Figure 3-5. A classification tree split on the three-values Residence attribute.</td>\n",
    "</tr>\n",
    "</table>\n",
    "\n",
    "Given the data, it is fairly straight forward to calculate both of these quantities."
   ]
  },
  {
   "cell_type": "markdown",
   "metadata": {},
   "source": [
    "### Getting started with entropy and information gain"
   ]
  },
  {
   "cell_type": "markdown",
   "metadata": {},
   "source": [
    "At the top of the notebook we defined Python functions for calculating these information theoretic measures of homogeneity (the *entropy*, $H$, and the *information gain*, $IG$).\n",
    "\n",
    "We can now use these to test our prior hunch, that using 50 as a split on a passenger's `fare` allows us to predict whether someone will survive.  "
   ]
  },
  {
   "cell_type": "code",
   "execution_count": 58,
   "metadata": {
    "colab": {
     "base_uri": "https://localhost:8080/"
    },
    "id": "bjOG65Q3bf-z",
    "outputId": "432c8712-d8d0-40f2-a317-827a843b6f91"
   },
   "outputs": [
    {
     "name": "stdout",
     "output_type": "stream",
     "text": [
      "IG of 0.0405 using a threshold of 50.00 given a prior entropy of 0.9969\n"
     ]
    }
   ],
   "source": [
    "threshold = 50\n",
    "prior_entropy = entropy(df[\"survived\"])\n",
    "IG = information_gain(df, \"fare\", \"survived\", threshold)\n",
    "print (\"IG of %.4f using a threshold of %.2f given a prior entropy of %.4f\" % (IG, threshold, prior_entropy))"
   ]
  },
  {
   "cell_type": "markdown",
   "metadata": {},
   "source": [
    "But is `50` the *best* choice possible for a splitting critierion?  \n",
    "\n",
    "We can answer that question definitively, with the helpf of a few lines of code, by applying brute-force search and simply testing *every* possible split for `fare`."
   ]
  },
  {
   "cell_type": "code",
   "execution_count": 59,
   "metadata": {},
   "outputs": [],
   "source": [
    "def best_threshold(df, info_column, target_column, criteria=information_gain):\n",
    "    maximum_ig = 0\n",
    "\n",
    "    for thresh in df[info_column]:\n",
    "        IG = criteria(df, info_column, target_column, thresh)\n",
    "        if IG > maximum_ig:\n",
    "            maximum_ig = IG\n",
    "            maximum_threshold = thresh\n",
    "            \n",
    "    return (maximum_threshold, maximum_ig)"
   ]
  },
  {
   "cell_type": "code",
   "execution_count": 60,
   "metadata": {},
   "outputs": [
    {
     "name": "stdout",
     "output_type": "stream",
     "text": [
      "The maximum IG we can achieve splitting on `fare` is 0.0572 using a split threshold of 15.50\n"
     ]
    }
   ],
   "source": [
    "maximum_threshold, maximum_ig = best_threshold(df, \"fare\", \"survived\")\n",
    "\n",
    "print (\"The maximum IG we can achieve splitting on `fare` is %.4f using a split threshold of %.2f\" % (maximum_ig, maximum_threshold))"
   ]
  },
  {
   "cell_type": "markdown",
   "metadata": {},
   "source": [
    "In the same way that we automated the search for the best threshold, we can write a function to search through *every* variable of interest and find it's best splitting threshold.  From the results of that search, we can identify the variable whose best splitting threshold produces the most informaiton gain!"
   ]
  },
  {
   "cell_type": "markdown",
   "metadata": {
    "id": "6_p9qO_ibf-y"
   },
   "source": [
    "Now that we have a way of calculating $H$ and $IG$, let's test our prior hunch, that using 50 as a split on fare allows us to determine if someone will survive."
   ]
  },
  {
   "cell_type": "markdown",
   "metadata": {
    "id": "xw8QsElmbf-0"
   },
   "source": [
    "How good was our guess of 50? Let's use a function to loop through all possible splits on fare and see what is the best!"
   ]
  },
  {
   "cell_type": "code",
   "execution_count": 61,
   "metadata": {
    "colab": {
     "base_uri": "https://localhost:8080/"
    },
    "id": "e_a0XcGtbf-0",
    "outputId": "00830091-db91-4c48-8ee1-d9591a327c39"
   },
   "outputs": [],
   "source": [
    "def best_threshold(df, info_column, target_column, criteria=information_gain):\n",
    "    maximum_ig = 0\n",
    "\n",
    "\n",
    "    for thresh in df[info_column]:\n",
    "        IG = criteria(df, info_column, target_column, thresh)\n",
    "        if IG > maximum_ig:\n",
    "            maximum_ig = IG\n",
    "            maximum_threshold = thresh\n",
    "            \n",
    "    return (maximum_threshold, maximum_ig)"
   ]
  },
  {
   "cell_type": "code",
   "execution_count": 62,
   "metadata": {
    "colab": {
     "base_uri": "https://localhost:8080/"
    },
    "id": "e_a0XcGtbf-0",
    "outputId": "00830091-db91-4c48-8ee1-d9591a327c39",
    "scrolled": true
   },
   "outputs": [
    {
     "name": "stdout",
     "output_type": "stream",
     "text": [
      "the maximum IG we can achieve splitting on `fare` is 0.0572 using a split threshold of 15.50\n"
     ]
    }
   ],
   "source": [
    "maximum_threshold, maximum_ig = best_threshold(df, \"fare\", \"survived\")\n",
    "\n",
    "print (\"the maximum IG we can achieve splitting on `fare` is %.4f using a split threshold of %.2f\" % (maximum_ig, maximum_threshold))"
   ]
  },
  {
   "cell_type": "markdown",
   "metadata": {},
   "source": [
    "## Finding the *best* split across *all* predictors"
   ]
  },
  {
   "cell_type": "markdown",
   "metadata": {},
   "source": [
    "During our EDA, we noticed, that a split of about `50` on `fare` seemed to provide good discrimination between passenger outcomes.  It turned out that we were pretty close.\n",
    "\n",
    "But how do we know that the best split on `fare` is the best split possible for the data set?  There could be other variables that provide even more information, if we split them properly.\n",
    "\n",
    "We can answer this question in the same way we answered the previous one.  Another short routine can apply brute force to searching across *all* predictors and finding the best split on each and then selecting the one that provides the most information."
   ]
  },
  {
   "cell_type": "code",
   "execution_count": 63,
   "metadata": {
    "colab": {
     "base_uri": "https://localhost:8080/"
    },
    "id": "wmi72qrobf-_",
    "outputId": "f26f5cfb-9386-4abd-ab77-9b35e05ed315",
    "run_control": {
     "marked": true
    }
   },
   "outputs": [],
   "source": [
    "def best_split(df, info_columns, target_column, criteria=information_gain):\n",
    "    maximum_ig = 0\n",
    "    maximum_threshold = 0\n",
    "    maximum_column = \"\"\n",
    "    \n",
    "    for info_column in info_columns:\n",
    "        thresh, ig = best_threshold(df, info_column, target_column, criteria)\n",
    "        \n",
    "        if ig > maximum_ig:\n",
    "            maximum_ig = ig\n",
    "            maximum_threshold = thresh\n",
    "            maximum_column = info_column\n",
    "\n",
    "    return maximum_column, maximum_threshold, maximum_ig"
   ]
  },
  {
   "cell_type": "code",
   "execution_count": 64,
   "metadata": {
    "colab": {
     "base_uri": "https://localhost:8080/"
    },
    "id": "wmi72qrobf-_",
    "outputId": "f26f5cfb-9386-4abd-ab77-9b35e05ed315"
   },
   "outputs": [
    {
     "name": "stdout",
     "output_type": "stream",
     "text": [
      "The best column to split on is female giving us a IG of 0.2813 using a thresh of 0.00\n"
     ]
    }
   ],
   "source": [
    "max_col, max_threshold, max_ig = best_split(df, predictor_cols, \"survived\")\n",
    "\n",
    "print (\"The best column to split on is %s giving us a IG of %.4f using a thresh of %.2f\" % (max_col, max_ig, max_threshold))"
   ]
  },
  {
   "cell_type": "markdown",
   "metadata": {
    "id": "owzBAy1sbf_B"
   },
   "source": [
    "Of course, splitting the data one time sometimes isn't enough to make accurate categorical predictions. However, we can continue to split the data recursively, building a tree-structured model that may give better results. This recursive splitting is the basis for a \"decision tree classifier\" or \"classifier tree\", a popular and powerful class of machine learning algorithm. In particular, this specific algorithm is known as ID3 for Iterative Dichotomizer. \n",
    "\n",
    "What are some other ways you might consider splitting the data?"
   ]
  },
  {
   "cell_type": "markdown",
   "metadata": {},
   "source": [
    "## Scaling up the splitting using `sklearn`"
   ]
  },
  {
   "cell_type": "markdown",
   "metadata": {
    "id": "D5WZt4Y7bf_C"
   },
   "source": [
    "Rather than build a classifier tree from scratch (you could now do this!) let's use the implementation in `sklearn` implementation which includes some additional functionality. "
   ]
  },
  {
   "cell_type": "code",
   "execution_count": 65,
   "metadata": {
    "colab": {
     "base_uri": "https://localhost:8080/"
    },
    "id": "76pCWNhebf_C",
    "outputId": "3f20aedf-f405-4e75-b2e9-41808af581c3"
   },
   "outputs": [
    {
     "data": {
      "text/plain": [
       "DecisionTreeClassifier(criterion='entropy', max_depth=3)"
      ]
     },
     "execution_count": 65,
     "metadata": {},
     "output_type": "execute_result"
    }
   ],
   "source": [
    "from sklearn.tree import DecisionTreeClassifier\n",
    "# Let's define the model (tree)\n",
    "decision_tree = DecisionTreeClassifier(max_depth=3, criterion=\"entropy\")   # Look at those 2 arguments !!! \n",
    "# Let's tell the model what is the data\n",
    "decision_tree.fit(df[predictor_cols], df[target_col])"
   ]
  },
  {
   "cell_type": "markdown",
   "metadata": {
    "id": "5-agHi2Obf_D"
   },
   "source": [
    "We now have a classifier tree, let's visualize the results!"
   ]
  },
  {
   "cell_type": "code",
   "execution_count": 66,
   "metadata": {
    "colab": {
     "base_uri": "https://localhost:8080/",
     "height": 353
    },
    "id": "0jfqWaIJbf_D",
    "outputId": "39bbb3fc-179d-430b-92ca-7f22f907aafa"
   },
   "outputs": [
    {
     "data": {
      "image/png": "[encoded data removed]",
      "text/plain": [
       "<IPython.core.display.Image object>"
      ]
     },
     "execution_count": 66,
     "metadata": {},
     "output_type": "execute_result"
    }
   ],
   "source": [
    "from IPython.display import Image\n",
    "from sklearn.tree import export_graphviz\n",
    "\n",
    "visualize_tree(decision_tree, predictor_cols, [\"dies\", \"survives\"])"
   ]
  },
  {
   "cell_type": "markdown",
   "metadata": {},
   "source": [
    "### Evaluating the results (a little more...)"
   ]
  },
  {
   "cell_type": "markdown",
   "metadata": {
    "id": "YQ4jASscbf_E"
   },
   "source": [
    "Let's look at `\"age\"` and `\"fare\"`, including the **DECISION SURFACE!!**\n",
    "\n",
    "More details for this graph: [sklearn decision surface](https://scikit-learn.org/stable/auto_examples/tree/plot_iris_dtc.html#sphx-glr-auto-examples-tree-plot-iris-dtc-py)"
   ]
  },
  {
   "cell_type": "code",
   "execution_count": 67,
   "metadata": {
    "colab": {
     "base_uri": "https://localhost:8080/",
     "height": 464
    },
    "id": "19kI_nxXbf_F",
    "outputId": "80d31083-7c51-47d1-e1e3-1bf4ec25c858",
    "run_control": {
     "marked": true
    }
   },
   "outputs": [
    {
     "name": "stderr",
     "output_type": "stream",
     "text": [
      "/Users/rogermstein/opt/anaconda3/lib/python3.8/site-packages/sklearn/base.py:450: UserWarning: X does not have valid feature names, but DecisionTreeClassifier was fitted with feature names\n",
      "  warnings.warn(\n"
     ]
    },
    {
     "data": {
      "image/png": "[encoded data removed]",
      "text/plain": [
       "<Figure size 864x504 with 1 Axes>"
      ]
     },
     "metadata": {},
     "output_type": "display_data"
    }
   ],
   "source": [
    "tree_depth=1\n",
    "\n",
    "model = DecisionTreeClassifier(max_depth=tree_depth, criterion=\"entropy\")\n",
    "Decision_Surface(df, \"fare\", \"age\", df.survived, model)"
   ]
  },
  {
   "cell_type": "code",
   "execution_count": 68,
   "metadata": {},
   "outputs": [
    {
     "data": {
      "text/html": [
       "<div><div id=ae7b2d50-d044-4567-9768-f1542d2500bd style=\"display:none; background-color:#9D6CFF; color:white; width:200px; height:30px; padding-left:5px; border-radius:4px; flex-direction:row; justify-content:space-around; align-items:center;\" onmouseover=\"this.style.backgroundColor='#BA9BF8'\" onmouseout=\"this.style.backgroundColor='#9D6CFF'\" onclick=\"window.commands?.execute('create-mitosheet-from-dataframe-output');\">See Full Dataframe in Mito</div> <script> if (window.commands.hasCommand('create-mitosheet-from-dataframe-output')) document.getElementById('ae7b2d50-d044-4567-9768-f1542d2500bd').style.display = 'flex' </script> <table border=\"1\" class=\"dataframe\">\n",
       "  <thead>\n",
       "    <tr style=\"text-align: right;\">\n",
       "      <th></th>\n",
       "      <th>pclass</th>\n",
       "      <th>age</th>\n",
       "    </tr>\n",
       "  </thead>\n",
       "  <tbody>\n",
       "    <tr>\n",
       "      <th>0</th>\n",
       "      <td>1</td>\n",
       "      <td>29.0000</td>\n",
       "    </tr>\n",
       "    <tr>\n",
       "      <th>1</th>\n",
       "      <td>1</td>\n",
       "      <td>0.9167</td>\n",
       "    </tr>\n",
       "    <tr>\n",
       "      <th>2</th>\n",
       "      <td>1</td>\n",
       "      <td>2.0000</td>\n",
       "    </tr>\n",
       "    <tr>\n",
       "      <th>3</th>\n",
       "      <td>1</td>\n",
       "      <td>30.0000</td>\n",
       "    </tr>\n",
       "    <tr>\n",
       "      <th>4</th>\n",
       "      <td>1</td>\n",
       "      <td>25.0000</td>\n",
       "    </tr>\n",
       "  </tbody>\n",
       "</table></div>"
      ],
      "text/plain": [
       "   pclass      age\n",
       "0       1  29.0000\n",
       "1       1   0.9167\n",
       "2       1   2.0000\n",
       "3       1  30.0000\n",
       "4       1  25.0000"
      ]
     },
     "execution_count": 68,
     "metadata": {},
     "output_type": "execute_result"
    }
   ],
   "source": [
    "df.iloc[:,[2,3]].head()"
   ]
  },
  {
   "cell_type": "markdown",
   "metadata": {
    "id": "U-upQD5xbf_F"
   },
   "source": [
    "How good is our model? Let's compute accuracy, the percent of times where we correctly identified whether a passenger survives."
   ]
  },
  {
   "cell_type": "code",
   "execution_count": 69,
   "metadata": {
    "colab": {
     "base_uri": "https://localhost:8080/"
    },
    "id": "GmSwBGe4bf_H",
    "outputId": "a61ad1f6-a525-404a-88f5-6a45672a612d"
   },
   "outputs": [
    {
     "name": "stdout",
     "output_type": "stream",
     "text": [
      "Accuracy = 0.84\n"
     ]
    }
   ],
   "source": [
    "from sklearn import metrics\n",
    "print ( \"Accuracy = %.2f\" % (metrics.accuracy_score(decision_tree.predict(df[predictor_cols]), df[\"survived\"])) )"
   ]
  },
  {
   "cell_type": "markdown",
   "metadata": {},
   "source": [
    "## Analyzing Fit"
   ]
  },
  {
   "cell_type": "markdown",
   "metadata": {},
   "source": [
    "While accuracy is a good way to analyze fit, we run into a fundamental problem with decision trees. Theoretically, we could fit a model to every one of the data points. This tree model would have 100% accuracy on our data. \n",
    "\n",
    "Q: *So what should we do?*\n",
    "\n",
    "A: Split the data into a training set and a test set. Check the accuracy of the model on the test set."
   ]
  },
  {
   "cell_type": "code",
   "execution_count": 70,
   "metadata": {},
   "outputs": [],
   "source": [
    "from sklearn.model_selection import train_test_split\n",
    "from sklearn import datasets\n",
    "from sklearn.datasets import make_classification"
   ]
  },
  {
   "cell_type": "code",
   "execution_count": 71,
   "metadata": {},
   "outputs": [
    {
     "data": {
      "text/plain": [
       "([0, 1, 2, 3, 4, 5, 6, 7, 8, 9], 'class')"
      ]
     },
     "execution_count": 71,
     "metadata": {},
     "output_type": "execute_result"
    }
   ],
   "source": [
    "data = make_classification(1000,n_features = 10,n_informative=2,class_sep=.01)\n",
    "data_df = pd.DataFrame(data[0])\n",
    "target_col = \"class\"\n",
    "data_df[target_col] = data[1]\n",
    "data_df.head()\n",
    "predictor_cols = [i for i in data_df.columns if i != target_col]\n",
    "predictor_cols, target_col\n"
   ]
  },
  {
   "cell_type": "code",
   "execution_count": 72,
   "metadata": {},
   "outputs": [],
   "source": [
    "df_train,df_test = train_test_split(data_df, test_size = .2)"
   ]
  },
  {
   "cell_type": "code",
   "execution_count": 73,
   "metadata": {},
   "outputs": [
    {
     "data": {
      "text/plain": [
       "((800, 11),\n",
       " (200, 11),\n",
       " Index([0, 1, 2, 3, 4, 5, 6, 7, 8, 9, 'class'], dtype='object'))"
      ]
     },
     "execution_count": 73,
     "metadata": {},
     "output_type": "execute_result"
    }
   ],
   "source": [
    "df_train.shape,df_test.shape, df_train.columns"
   ]
  },
  {
   "cell_type": "code",
   "execution_count": 74,
   "metadata": {},
   "outputs": [
    {
     "name": "stdout",
     "output_type": "stream",
     "text": [
      "Training Accuracy = 1.00\n",
      "Test Accuracy = 0.66\n"
     ]
    }
   ],
   "source": [
    "tree_depth = 1000\n",
    "model = DecisionTreeClassifier(max_depth=tree_depth, \n",
    "                            criterion=\"entropy\",\n",
    "                            min_samples_leaf=1,\n",
    "                              )\n",
    "model.fit(df_train[predictor_cols],df_train[target_col])\n",
    "print ( \"Training Accuracy = %.2f\" % (metrics.accuracy_score(model.predict(df_train[predictor_cols]), \n",
    "                                                             df_train[target_col])) )\n",
    "print ( \"Test Accuracy = %.2f\" % (metrics.accuracy_score(model.predict(df_test[predictor_cols]),\n",
    "                                                         df_test[target_col])) )"
   ]
  },
  {
   "cell_type": "code",
   "execution_count": 75,
   "metadata": {},
   "outputs": [
    {
     "name": "stdout",
     "output_type": "stream",
     "text": [
      "Training Accuracy = 0.81\n",
      "Test Accuracy = 0.66\n"
     ]
    }
   ],
   "source": [
    "tree_depth=7\n",
    "model = DecisionTreeClassifier(max_depth=tree_depth, \n",
    "                            criterion=\"entropy\",\n",
    "                            min_samples_leaf=1,\n",
    "                              )\n",
    "model.fit(df_train[predictor_cols],df_train[target_col])\n",
    "print ( \"Training Accuracy = %.2f\" % (metrics.accuracy_score(model.predict(df_train[predictor_cols]), \n",
    "                                                             df_train[target_col])) )\n",
    "print ( \"Test Accuracy = %.2f\" % (metrics.accuracy_score(model.predict(df_test[predictor_cols]),\n",
    "                                                         df_test[target_col])) )"
   ]
  },
  {
   "cell_type": "markdown",
   "metadata": {},
   "source": [
    "But, as we learned in Lecture 3, we can do a lot better for performance evaluation than using the `accuracy_score`..."
   ]
  },
  {
   "cell_type": "markdown",
   "metadata": {},
   "source": [
    "## A better measure of classifier performance"
   ]
  },
  {
   "cell_type": "code",
   "execution_count": 77,
   "metadata": {},
   "outputs": [
    {
     "name": "stdout",
     "output_type": "stream",
     "text": [
      "AUC (test data) = 0.6\n"
     ]
    }
   ],
   "source": [
    "from sklearn.model_selection import cross_val_score\n",
    "\n",
    "X = df_test[predictor_cols]\n",
    "Y = df_test[target_col]\n",
    "auc = np.mean(cross_val_score(model, X, Y, scoring=\"roc_auc\", cv=5))\n",
    "\n",
    "print(f\"AUC (test data) = {str(round(auc, 2))}\")\n",
    "\n",
    "\n"
   ]
  },
  {
   "cell_type": "code",
   "execution_count": null,
   "metadata": {},
   "outputs": [],
   "source": []
  }
 ],
 "metadata": {
  "colab": {
   "collapsed_sections": [],
   "name": "FP's Supervised segmentation.ipynb",
   "provenance": []
  },
  "kernelspec": {
   "display_name": "Python 3 (ipykernel)",
   "language": "python",
   "name": "python3"
  },
  "language_info": {
   "codemirror_mode": {
    "name": "ipython",
    "version": 3
   },
   "file_extension": ".py",
   "mimetype": "text/x-python",
   "name": "python",
   "nbconvert_exporter": "python",
   "pygments_lexer": "ipython3",
   "version": "3.8.5"
  },
  "latex_envs": {
   "LaTeX_envs_menu_present": true,
   "autoclose": false,
   "autocomplete": true,
   "bibliofile": "biblio.bib",
   "cite_by": "apalike",
   "current_citInitial": 1,
   "eqLabelWithNumbers": true,
   "eqNumInitial": 1,
   "hotkeys": {
    "equation": "Ctrl-E",
    "itemize": "Ctrl-I"
   },
   "labels_anchors": false,
   "latex_user_defs": false,
   "report_style_numbering": false,
   "user_envs_cfg": false
  },
  "toc": {
   "base_numbering": 1,
   "nav_menu": {},
   "number_sections": true,
   "sideBar": true,
   "skip_h1_title": false,
   "title_cell": "Table of Contents",
   "title_sidebar": "Contents",
   "toc_cell": false,
   "toc_position": {},
   "toc_section_display": true,
   "toc_window_display": false
  },
  "varInspector": {
   "cols": {
    "lenName": 16,
    "lenType": 16,
    "lenVar": 40
   },
   "kernels_config": {
    "python": {
     "delete_cmd_postfix": "",
     "delete_cmd_prefix": "del ",
     "library": "var_list.py",
     "varRefreshCmd": "print(var_dic_list())"
    },
    "r": {
     "delete_cmd_postfix": ") ",
     "delete_cmd_prefix": "rm(",
     "library": "var_list.r",
     "varRefreshCmd": "cat(var_dic_list()) "
    }
   },
   "types_to_exclude": [
    "module",
    "function",
    "builtin_function_or_method",
    "instance",
    "_Feature"
   ],
   "window_display": false
  }
 },
 "nbformat": 4,
 "nbformat_minor": 1
}
