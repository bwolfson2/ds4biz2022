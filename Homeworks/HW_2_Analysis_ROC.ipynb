{
 "cells": [
  {
   "cell_type": "code",
   "execution_count": null,
   "metadata": {},
   "outputs": [],
   "source": [
    "#If opening in colab run this cell\n",
    "!git clone https://github.com/bwolfson2/dsclass2022\n",
    "%cd dsclass2022/Homeworks"
   ]
  },
  {
   "cell_type": "markdown",
   "metadata": {},
   "source": [
    "To open notebook in Colab please click below:\n",
    "\n",
    "<a href=\"https://colab.research.google.com/github/bwolfson2/dsclass2022/blob/master/Homeworks/Homework_2_p1.ipynb\" target=\"_parent\"> <img src=\"https://colab.research.google.com/assets/colab-badge.svg\" alt=\"Open In Colab\" /> </a>"
   ]
  },
  {
   "cell_type": "markdown",
   "metadata": {},
   "source": [
    "### Homework 2\n",
    "We turn back to our prediction problem for sales, aiming to predict the probability of sales being less than a standard deviation of previous days."
   ]
  },
  {
   "cell_type": "code",
   "execution_count": 2,
   "metadata": {},
   "outputs": [
    {
     "name": "stderr",
     "output_type": "stream",
     "text": [
      "/home/wolfs/anaconda3/lib/python3.8/site-packages/IPython/core/interactiveshell.py:3457: DtypeWarning: Columns (7) have mixed types.Specify dtype option on import or set low_memory=False.\n",
      "  exec(code_obj, self.user_global_ns, self.user_ns)\n"
     ]
    }
   ],
   "source": [
    "path = \"./retail_sales\"\n",
    "fn      = 'retail_sales.csv'\n",
    "full_fn = path+'/'+fn\n",
    "import pandas as pd\n",
    "import numpy as np\n",
    "df = pd.read_csv(full_fn)\n",
    "df.dropna(axis='index', subset=['Sales'],inplace=True)\n",
    "df['Date'] = pd.to_datetime(df['Date'], format='%Y-%m-%d')\n",
    "df['StateHoliday'] = df['StateHoliday'].astype('string')\n",
    "df_train = df.loc[df['Date'] < '2014-07-01']\n",
    "df_test  = df.loc[df['Date'] >= '2014-07-01']"
   ]
  },
  {
   "cell_type": "code",
   "execution_count": 4,
   "metadata": {},
   "outputs": [
    {
     "data": {
      "text/plain": [
       "0          1\n",
       "1          1\n",
       "2          1\n",
       "3          1\n",
       "4          1\n",
       "          ..\n",
       "1017204    0\n",
       "1017205    0\n",
       "1017206    0\n",
       "1017207    0\n",
       "1017208    0\n",
       "Name: Open, Length: 1017209, dtype: int64"
      ]
     },
     "execution_count": 4,
     "metadata": {},
     "output_type": "execute_result"
    }
   ],
   "source": []
  },
  {
   "cell_type": "code",
   "execution_count": 65,
   "metadata": {
    "collapsed": true
   },
   "outputs": [
    {
     "name": "stderr",
     "output_type": "stream",
     "text": [
      "C:\\Users\\Public\\Documents\\Wondershare\\CreatorTemp/ipykernel_12324/308833607.py:4: SettingWithCopyWarning: \n",
      "A value is trying to be set on a copy of a slice from a DataFrame.\n",
      "Try using .loc[row_indexer,col_indexer] = value instead\n",
      "\n",
      "See the caveats in the documentation: https://pandas.pydata.org/pandas-docs/stable/user_guide/indexing.html#returning-a-view-versus-a-copy\n",
      "  working_df['lnSales'] = np.log(working_df.Sales+1)           # add 1 to account for for zero sales days\n",
      "C:\\Users\\Public\\Documents\\Wondershare\\CreatorTemp/ipykernel_12324/308833607.py:12: SettingWithCopyWarning: \n",
      "A value is trying to be set on a copy of a slice from a DataFrame.\n",
      "Try using .loc[row_indexer,col_indexer] = value instead\n",
      "\n",
      "See the caveats in the documentation: https://pandas.pydata.org/pandas-docs/stable/user_guide/indexing.html#returning-a-view-versus-a-copy\n",
      "  working_df['zSales'] = z\n",
      "C:\\Users\\Public\\Documents\\Wondershare\\CreatorTemp/ipykernel_12324/308833607.py:13: SettingWithCopyWarning: \n",
      "A value is trying to be set on a copy of a slice from a DataFrame.\n",
      "Try using .loc[row_indexer,col_indexer] = value instead\n",
      "\n",
      "See the caveats in the documentation: https://pandas.pydata.org/pandas-docs/stable/user_guide/indexing.html#returning-a-view-versus-a-copy\n",
      "  working_df['lowSalesFlag'] = np.where(z < -1, 1,0)\n"
     ]
    },
    {
     "data": {
      "text/html": [
       "<div>\n",
       "<style scoped>\n",
       "    .dataframe tbody tr th:only-of-type {\n",
       "        vertical-align: middle;\n",
       "    }\n",
       "\n",
       "    .dataframe tbody tr th {\n",
       "        vertical-align: top;\n",
       "    }\n",
       "\n",
       "    .dataframe thead th {\n",
       "        text-align: right;\n",
       "    }\n",
       "</style>\n",
       "<table border=\"1\" class=\"dataframe\">\n",
       "  <thead>\n",
       "    <tr style=\"text-align: right;\">\n",
       "      <th></th>\n",
       "      <th>Store</th>\n",
       "      <th>Date</th>\n",
       "      <th>Sales</th>\n",
       "      <th>Customers</th>\n",
       "      <th>Open</th>\n",
       "      <th>Promo</th>\n",
       "      <th>SchoolHoliday</th>\n",
       "      <th>lnSales</th>\n",
       "      <th>zSales</th>\n",
       "      <th>lowSalesFlag</th>\n",
       "      <th>DayOfWeek_2</th>\n",
       "      <th>DayOfWeek_3</th>\n",
       "      <th>DayOfWeek_4</th>\n",
       "      <th>DayOfWeek_5</th>\n",
       "      <th>DayOfWeek_6</th>\n",
       "      <th>DayOfWeek_7</th>\n",
       "      <th>StateHoliday_a</th>\n",
       "      <th>StateHoliday_b</th>\n",
       "      <th>StateHoliday_c</th>\n",
       "    </tr>\n",
       "  </thead>\n",
       "  <tbody>\n",
       "    <tr>\n",
       "      <th>408420</th>\n",
       "      <td>1</td>\n",
       "      <td>2014-06-30</td>\n",
       "      <td>5738</td>\n",
       "      <td>641</td>\n",
       "      <td>1</td>\n",
       "      <td>1</td>\n",
       "      <td>0</td>\n",
       "      <td>8.655040</td>\n",
       "      <td>-0.190548</td>\n",
       "      <td>0</td>\n",
       "      <td>0</td>\n",
       "      <td>0</td>\n",
       "      <td>0</td>\n",
       "      <td>0</td>\n",
       "      <td>0</td>\n",
       "      <td>0</td>\n",
       "      <td>0</td>\n",
       "      <td>0</td>\n",
       "      <td>0</td>\n",
       "    </tr>\n",
       "    <tr>\n",
       "      <th>408421</th>\n",
       "      <td>2</td>\n",
       "      <td>2014-06-30</td>\n",
       "      <td>10682</td>\n",
       "      <td>1021</td>\n",
       "      <td>1</td>\n",
       "      <td>1</td>\n",
       "      <td>0</td>\n",
       "      <td>9.276409</td>\n",
       "      <td>1.239433</td>\n",
       "      <td>0</td>\n",
       "      <td>0</td>\n",
       "      <td>0</td>\n",
       "      <td>0</td>\n",
       "      <td>0</td>\n",
       "      <td>0</td>\n",
       "      <td>0</td>\n",
       "      <td>0</td>\n",
       "      <td>0</td>\n",
       "      <td>0</td>\n",
       "    </tr>\n",
       "    <tr>\n",
       "      <th>408422</th>\n",
       "      <td>3</td>\n",
       "      <td>2014-06-30</td>\n",
       "      <td>15689</td>\n",
       "      <td>1193</td>\n",
       "      <td>1</td>\n",
       "      <td>1</td>\n",
       "      <td>0</td>\n",
       "      <td>9.660779</td>\n",
       "      <td>2.124000</td>\n",
       "      <td>0</td>\n",
       "      <td>0</td>\n",
       "      <td>0</td>\n",
       "      <td>0</td>\n",
       "      <td>0</td>\n",
       "      <td>0</td>\n",
       "      <td>0</td>\n",
       "      <td>0</td>\n",
       "      <td>0</td>\n",
       "      <td>0</td>\n",
       "    </tr>\n",
       "    <tr>\n",
       "      <th>408423</th>\n",
       "      <td>4</td>\n",
       "      <td>2014-06-30</td>\n",
       "      <td>15672</td>\n",
       "      <td>1783</td>\n",
       "      <td>1</td>\n",
       "      <td>1</td>\n",
       "      <td>0</td>\n",
       "      <td>9.659695</td>\n",
       "      <td>2.121505</td>\n",
       "      <td>0</td>\n",
       "      <td>0</td>\n",
       "      <td>0</td>\n",
       "      <td>0</td>\n",
       "      <td>0</td>\n",
       "      <td>0</td>\n",
       "      <td>0</td>\n",
       "      <td>0</td>\n",
       "      <td>0</td>\n",
       "      <td>0</td>\n",
       "    </tr>\n",
       "    <tr>\n",
       "      <th>408424</th>\n",
       "      <td>5</td>\n",
       "      <td>2014-06-30</td>\n",
       "      <td>7954</td>\n",
       "      <td>784</td>\n",
       "      <td>1</td>\n",
       "      <td>1</td>\n",
       "      <td>0</td>\n",
       "      <td>8.981556</td>\n",
       "      <td>0.560876</td>\n",
       "      <td>0</td>\n",
       "      <td>0</td>\n",
       "      <td>0</td>\n",
       "      <td>0</td>\n",
       "      <td>0</td>\n",
       "      <td>0</td>\n",
       "      <td>0</td>\n",
       "      <td>0</td>\n",
       "      <td>0</td>\n",
       "      <td>0</td>\n",
       "    </tr>\n",
       "    <tr>\n",
       "      <th>...</th>\n",
       "      <td>...</td>\n",
       "      <td>...</td>\n",
       "      <td>...</td>\n",
       "      <td>...</td>\n",
       "      <td>...</td>\n",
       "      <td>...</td>\n",
       "      <td>...</td>\n",
       "      <td>...</td>\n",
       "      <td>...</td>\n",
       "      <td>...</td>\n",
       "      <td>...</td>\n",
       "      <td>...</td>\n",
       "      <td>...</td>\n",
       "      <td>...</td>\n",
       "      <td>...</td>\n",
       "      <td>...</td>\n",
       "      <td>...</td>\n",
       "      <td>...</td>\n",
       "      <td>...</td>\n",
       "    </tr>\n",
       "    <tr>\n",
       "      <th>1016776</th>\n",
       "      <td>682</td>\n",
       "      <td>2013-01-01</td>\n",
       "      <td>3375</td>\n",
       "      <td>566</td>\n",
       "      <td>1</td>\n",
       "      <td>0</td>\n",
       "      <td>1</td>\n",
       "      <td>8.124447</td>\n",
       "      <td>-1.411624</td>\n",
       "      <td>1</td>\n",
       "      <td>1</td>\n",
       "      <td>0</td>\n",
       "      <td>0</td>\n",
       "      <td>0</td>\n",
       "      <td>0</td>\n",
       "      <td>0</td>\n",
       "      <td>1</td>\n",
       "      <td>0</td>\n",
       "      <td>0</td>\n",
       "    </tr>\n",
       "    <tr>\n",
       "      <th>1016827</th>\n",
       "      <td>733</td>\n",
       "      <td>2013-01-01</td>\n",
       "      <td>10765</td>\n",
       "      <td>2377</td>\n",
       "      <td>1</td>\n",
       "      <td>0</td>\n",
       "      <td>1</td>\n",
       "      <td>9.284148</td>\n",
       "      <td>1.257244</td>\n",
       "      <td>0</td>\n",
       "      <td>1</td>\n",
       "      <td>0</td>\n",
       "      <td>0</td>\n",
       "      <td>0</td>\n",
       "      <td>0</td>\n",
       "      <td>0</td>\n",
       "      <td>1</td>\n",
       "      <td>0</td>\n",
       "      <td>0</td>\n",
       "    </tr>\n",
       "    <tr>\n",
       "      <th>1016863</th>\n",
       "      <td>769</td>\n",
       "      <td>2013-01-01</td>\n",
       "      <td>5035</td>\n",
       "      <td>1248</td>\n",
       "      <td>1</td>\n",
       "      <td>0</td>\n",
       "      <td>1</td>\n",
       "      <td>8.524367</td>\n",
       "      <td>-0.491271</td>\n",
       "      <td>0</td>\n",
       "      <td>1</td>\n",
       "      <td>0</td>\n",
       "      <td>0</td>\n",
       "      <td>0</td>\n",
       "      <td>0</td>\n",
       "      <td>0</td>\n",
       "      <td>1</td>\n",
       "      <td>0</td>\n",
       "      <td>0</td>\n",
       "    </tr>\n",
       "    <tr>\n",
       "      <th>1017042</th>\n",
       "      <td>948</td>\n",
       "      <td>2013-01-01</td>\n",
       "      <td>4491</td>\n",
       "      <td>1039</td>\n",
       "      <td>1</td>\n",
       "      <td>0</td>\n",
       "      <td>1</td>\n",
       "      <td>8.410053</td>\n",
       "      <td>-0.754346</td>\n",
       "      <td>0</td>\n",
       "      <td>1</td>\n",
       "      <td>0</td>\n",
       "      <td>0</td>\n",
       "      <td>0</td>\n",
       "      <td>0</td>\n",
       "      <td>0</td>\n",
       "      <td>1</td>\n",
       "      <td>0</td>\n",
       "      <td>0</td>\n",
       "    </tr>\n",
       "    <tr>\n",
       "      <th>1017190</th>\n",
       "      <td>1097</td>\n",
       "      <td>2013-01-01</td>\n",
       "      <td>5961</td>\n",
       "      <td>1405</td>\n",
       "      <td>1</td>\n",
       "      <td>0</td>\n",
       "      <td>1</td>\n",
       "      <td>8.693161</td>\n",
       "      <td>-0.102818</td>\n",
       "      <td>0</td>\n",
       "      <td>1</td>\n",
       "      <td>0</td>\n",
       "      <td>0</td>\n",
       "      <td>0</td>\n",
       "      <td>0</td>\n",
       "      <td>0</td>\n",
       "      <td>1</td>\n",
       "      <td>0</td>\n",
       "      <td>0</td>\n",
       "    </tr>\n",
       "  </tbody>\n",
       "</table>\n",
       "<p>503607 rows × 19 columns</p>\n",
       "</div>"
      ],
      "text/plain": [
       "         Store       Date  Sales  Customers  Open  Promo  SchoolHoliday  \\\n",
       "408420       1 2014-06-30   5738        641     1      1              0   \n",
       "408421       2 2014-06-30  10682       1021     1      1              0   \n",
       "408422       3 2014-06-30  15689       1193     1      1              0   \n",
       "408423       4 2014-06-30  15672       1783     1      1              0   \n",
       "408424       5 2014-06-30   7954        784     1      1              0   \n",
       "...        ...        ...    ...        ...   ...    ...            ...   \n",
       "1016776    682 2013-01-01   3375        566     1      0              1   \n",
       "1016827    733 2013-01-01  10765       2377     1      0              1   \n",
       "1016863    769 2013-01-01   5035       1248     1      0              1   \n",
       "1017042    948 2013-01-01   4491       1039     1      0              1   \n",
       "1017190   1097 2013-01-01   5961       1405     1      0              1   \n",
       "\n",
       "          lnSales    zSales  lowSalesFlag  DayOfWeek_2  DayOfWeek_3  \\\n",
       "408420   8.655040 -0.190548             0            0            0   \n",
       "408421   9.276409  1.239433             0            0            0   \n",
       "408422   9.660779  2.124000             0            0            0   \n",
       "408423   9.659695  2.121505             0            0            0   \n",
       "408424   8.981556  0.560876             0            0            0   \n",
       "...           ...       ...           ...          ...          ...   \n",
       "1016776  8.124447 -1.411624             1            1            0   \n",
       "1016827  9.284148  1.257244             0            1            0   \n",
       "1016863  8.524367 -0.491271             0            1            0   \n",
       "1017042  8.410053 -0.754346             0            1            0   \n",
       "1017190  8.693161 -0.102818             0            1            0   \n",
       "\n",
       "         DayOfWeek_4  DayOfWeek_5  DayOfWeek_6  DayOfWeek_7  StateHoliday_a  \\\n",
       "408420             0            0            0            0               0   \n",
       "408421             0            0            0            0               0   \n",
       "408422             0            0            0            0               0   \n",
       "408423             0            0            0            0               0   \n",
       "408424             0            0            0            0               0   \n",
       "...              ...          ...          ...          ...             ...   \n",
       "1016776            0            0            0            0               1   \n",
       "1016827            0            0            0            0               1   \n",
       "1016863            0            0            0            0               1   \n",
       "1017042            0            0            0            0               1   \n",
       "1017190            0            0            0            0               1   \n",
       "\n",
       "         StateHoliday_b  StateHoliday_c  \n",
       "408420                0               0  \n",
       "408421                0               0  \n",
       "408422                0               0  \n",
       "408423                0               0  \n",
       "408424                0               0  \n",
       "...                 ...             ...  \n",
       "1016776               0               0  \n",
       "1016827               0               0  \n",
       "1016863               0               0  \n",
       "1017042               0               0  \n",
       "1017190               0               0  \n",
       "\n",
       "[503607 rows x 19 columns]"
      ]
     },
     "execution_count": 65,
     "metadata": {},
     "output_type": "execute_result"
    }
   ],
   "source": [
    "import numpy as np\n",
    "\n",
    "working_df            = df_train.loc[df_train['Open'] != 0]  # eliminate observations for closed stores\n",
    "working_df['lnSales'] = np.log(working_df.Sales+1)           # add 1 to account for for zero sales days\n",
    "#working_df['lnSales'].hist()                                # make sure everything looks OK\n",
    "\n",
    "mu    = working_df.lnSales.mean()     # calculate mean for z-scores\n",
    "sigma = working_df.lnSales.std()      # calculate sd for z-scores\n",
    "x     = np.array(working_df.lnSales)  # convert to np.array to permit vectorization\n",
    "z     = (x - mu)/sigma\n",
    "\n",
    "working_df['zSales'] = z\n",
    "working_df['lowSalesFlag'] = np.where(z < -1, 1,0)\n",
    "\n",
    "working_df = pd.get_dummies(working_df, columns=['DayOfWeek'], drop_first=True, dummy_na=False)\n",
    "working_df = pd.get_dummies(working_df, columns=['StateHoliday'], drop_first=True, dummy_na=False)\n",
    "\n",
    "working_df"
   ]
  },
  {
   "cell_type": "markdown",
   "metadata": {},
   "source": [
    "## Q1: Fit a statsmodel logit model to the data to estimate the probability that Sales will be 'low' for for a given day based on knowlege of observable day of the week and holiday features. Low being a standard deviation less than all sales. Use the code and baseline provided in HW 1 Solutions video"
   ]
  },
  {
   "cell_type": "code",
   "execution_count": 92,
   "metadata": {},
   "outputs": [
    {
     "name": "stdout",
     "output_type": "stream",
     "text": [
      "Optimization terminated successfully.\n",
      "         Current function value: 0.366844\n",
      "         Iterations 7\n",
      "                           Logit Regression Results                           \n",
      "==============================================================================\n",
      "Dep. Variable:           lowSalesFlag   No. Observations:               503607\n",
      "Model:                          Logit   Df Residuals:                   503595\n",
      "Method:                           MLE   Df Model:                           11\n",
      "Date:                Thu, 06 Jan 2022   Pseudo R-squ.:                  0.1072\n",
      "Time:                        12:31:42   Log-Likelihood:            -1.8475e+05\n",
      "converged:                       True   LL-Null:                   -2.0692e+05\n",
      "Covariance Type:            nonrobust   LLR p-value:                     0.000\n",
      "==================================================================================\n",
      "                     coef    std err          z      P>|z|      [0.025      0.975]\n",
      "----------------------------------------------------------------------------------\n",
      "Intercept         -1.5897      0.013   -122.632      0.000      -1.615      -1.564\n",
      "Promo             -1.8862      0.013   -148.303      0.000      -1.911      -1.861\n",
      "SchoolHoliday     -0.0679      0.012     -5.669      0.000      -0.091      -0.044\n",
      "DayOfWeek_2        0.4187      0.016     25.775      0.000       0.387       0.451\n",
      "DayOfWeek_3        0.3871      0.016     23.619      0.000       0.355       0.419\n",
      "DayOfWeek_4        0.3511      0.017     21.070      0.000       0.318       0.384\n",
      "DayOfWeek_5       -0.1246      0.018     -7.056      0.000      -0.159      -0.090\n",
      "DayOfWeek_6        0.6221      0.015     41.480      0.000       0.593       0.651\n",
      "DayOfWeek_7        0.7510      0.049     15.180      0.000       0.654       0.848\n",
      "StateHoliday_a     0.6011      0.127      4.745      0.000       0.353       0.849\n",
      "StateHoliday_b     1.1396      0.243      4.693      0.000       0.664       1.616\n",
      "StateHoliday_c    -0.7901      0.530     -1.489      0.136      -1.830       0.250\n",
      "==================================================================================\n"
     ]
    },
    {
     "name": "stderr",
     "output_type": "stream",
     "text": [
      "C:\\Users\\Public\\Documents\\Wondershare\\CreatorTemp/ipykernel_12324/741428167.py:19: SettingWithCopyWarning: \n",
      "A value is trying to be set on a copy of a slice from a DataFrame.\n",
      "Try using .loc[row_indexer,col_indexer] = value instead\n",
      "\n",
      "See the caveats in the documentation: https://pandas.pydata.org/pandas-docs/stable/user_guide/indexing.html#returning-a-view-versus-a-copy\n",
      "  testing_df['lnSales'] = np.log(testing_df.Sales+1)          # add 1 to account for for zero sales days\n",
      "C:\\Users\\Public\\Documents\\Wondershare\\CreatorTemp/ipykernel_12324/741428167.py:23: SettingWithCopyWarning: \n",
      "A value is trying to be set on a copy of a slice from a DataFrame.\n",
      "Try using .loc[row_indexer,col_indexer] = value instead\n",
      "\n",
      "See the caveats in the documentation: https://pandas.pydata.org/pandas-docs/stable/user_guide/indexing.html#returning-a-view-versus-a-copy\n",
      "  testing_df['zSales'] = z\n",
      "C:\\Users\\Public\\Documents\\Wondershare\\CreatorTemp/ipykernel_12324/741428167.py:24: SettingWithCopyWarning: \n",
      "A value is trying to be set on a copy of a slice from a DataFrame.\n",
      "Try using .loc[row_indexer,col_indexer] = value instead\n",
      "\n",
      "See the caveats in the documentation: https://pandas.pydata.org/pandas-docs/stable/user_guide/indexing.html#returning-a-view-versus-a-copy\n",
      "  testing_df['lowSalesFlag'] = np.where(z < -1, 1,0)\n"
     ]
    }
   ],
   "source": [
    "XXX"
   ]
  },
  {
   "cell_type": "code",
   "execution_count": 73,
   "metadata": {},
   "outputs": [
    {
     "name": "stdout",
     "output_type": "stream",
     "text": [
      "Accuracy: 0.56\n"
     ]
    }
   ],
   "source": [
    "accuracy = (pred == true).mean()\n",
    "print(f\"Accuracy: {accuracy:.2f}\")"
   ]
  },
  {
   "cell_type": "markdown",
   "metadata": {},
   "source": [
    "## Q2: Fit an sklearn Logistic Regression to the data, report your results as above. Were they significantly different? Why or why not? This question may require you checking out the documentation"
   ]
  },
  {
   "cell_type": "code",
   "execution_count": 114,
   "metadata": {},
   "outputs": [],
   "source": [
    "XXX\n"
   ]
  },
  {
   "cell_type": "code",
   "execution_count": 2,
   "metadata": {},
   "outputs": [],
   "source": [
    "print(f\"Accuracy: {(pred == true).mean():.2f}\")"
   ]
  },
  {
   "cell_type": "markdown",
   "metadata": {},
   "source": [
    "## Q3 Fit a Tree Classifier (sklearn) to model the probability that sales will be low. What are the most important features? What does this tell you about the data?"
   ]
  },
  {
   "cell_type": "code",
   "execution_count": 117,
   "metadata": {},
   "outputs": [
    {
     "name": "stdout",
     "output_type": "stream",
     "text": [
      "Accuracy: 0.89\n"
     ]
    }
   ],
   "source": [
    "from sklearn.tree import DecisionTreeClassifier\n",
    "model = XXX\n",
    "model.fit(XXX)\n",
    "pred = model.predict(XXX)\n",
    "true = testing_df[target_col]\n",
    "\n",
    "print(f\"Accuracy: {(pred == true).mean():.2f}\")"
   ]
  },
  {
   "cell_type": "code",
   "execution_count": null,
   "metadata": {},
   "outputs": [],
   "source": [
    "### Print feature importances\n",
    "XXX"
   ]
  },
  {
   "cell_type": "markdown",
   "metadata": {},
   "source": [
    "## Q4 (Regression Trees) Let's build a regression tree to model Log Sales. Compare it with a Linear Regression -- does it work better?"
   ]
  },
  {
   "cell_type": "code",
   "execution_count": 144,
   "metadata": {},
   "outputs": [],
   "source": [
    "## Helper function\n",
    "def report_reg_results(model,train_X,train_Y,test_X,test_Y):\n",
    "    model.fit(train_X,train_Y)\n",
    "\n",
    "    pred = model.predict(test_X)\n",
    "    act = test_Y\n",
    "    errors    = pred - act\n",
    "    err       = np.array(errors)\n",
    "\n",
    "    err2      = np.mean(err**2)\n",
    "    MAD       = np.abs(np.median(err))\n",
    "    RMS       = np.sqrt(np.mean(err2))\n",
    "    r         = np.corrcoef(act,pred)[0,1]\n",
    "    pseudo_R2 = r**2\n",
    "\n",
    "    print('RMS = %.3f; MAD= %.3f; pseudo-R2 = %.3f' % (RMS,MAD,pseudo_R2))\n",
    "\n",
    "    pred_df = pd.DataFrame({\"actual\":act, \"predicted\":pred})\n",
    "    plt_df  = pred_df.sample(n=1000, replace=False, random_state=123).sort_index()\n",
    "    plt_min = np.min(np.min(plt_df))\n",
    "    plt_max = np.max(np.max(plt_df))\n",
    "    plt_col = np.where(plt_df['actual']<plt_df['predicted'],\"red\",\"blue\")\n",
    "\n",
    "    fig, ax = plt.subplots()\n",
    "    ax.scatter(plt_df['actual'], y=plt_df['predicted'],c=plt_col)\n",
    "    ax.set_xlim(plt_min,plt_max)\n",
    "    ax.set_ylim(plt_min,plt_max)\n",
    "    plt.xlabel(\"Actual\")\n",
    "    plt.ylabel(\"Predicted\")\n",
    "    plt.title(\"lnSales: Actual vs. Predicted\")\n",
    "    fig\n",
    "    print(pred_df.describe())"
   ]
  },
  {
   "cell_type": "code",
   "execution_count": 4,
   "metadata": {},
   "outputs": [],
   "source": [
    "XXXX"
   ]
  },
  {
   "cell_type": "markdown",
   "metadata": {},
   "source": [
    "## Q5: Discuss your results. Why are the predictors performing similarly in both classification and regression? What do you think can make them better?"
   ]
  },
  {
   "cell_type": "code",
   "execution_count": 3,
   "metadata": {
    "code_folding": [],
    "scrolled": false
   },
   "outputs": [],
   "source": [
    "# XXXX"
   ]
  },
  {
   "cell_type": "markdown",
   "metadata": {},
   "source": [
    "## Part 2"
   ]
  },
  {
   "cell_type": "markdown",
   "metadata": {},
   "source": [
    "# Predicting Churn\n",
    "\n",
    "After discussing the churn problem at TelCo with Henrietta for a while (remember, from your pre-class assignment?), you've finally defined an adequate target variable for churn and gathered relevant data to predict it. Moreover, the marketing department has come up with an amazing retention offer: the offer is guaranteed to convince customers to extend their contract for an extra year after receiving it. Unfortunately, the offer is quite expensive; it costs $200. \n",
    "\n",
    "You've been authorized to give the retention offer to up to 25% of the customers whose contract is expiring. It is your job to use data from previous contract expirations to build a churn predictive model and make a recommendation of whom to target with the offers. The historical data includes:\n",
    "\n",
    "- Gender: Whether the customer is a male or a female\n",
    "- SeniorCitizen: Whether the customer is a senior citizen or not (1, 0)\n",
    "- Partner: Whether the customer has a partner or not (Yes, No)\n",
    "a- tenure: Number of months the customer has stayed with the company\n",
    "- PhoneService: Whether the customer has a phone service or not (Yes, No)\n",
    "- MultipleLines: Whether the customer has multiple lines or not (Yes, No, No phone service)\n",
    "- InternetService: Customer’s internet service provider (DSL, Fiber optic, No)\n",
    "- OnlineSecurity: Whether the customer has online security or not (Yes, No, No internet service)\n",
    "- OnlineBackup: Whether the customer has online backup or not (Yes, No, No internet service)\n",
    "- DeviceProtection: Whether the customer has device protection or not (Yes, No, No internet service)\n",
    "- TechSupport: Whether the customer has tech support or not (Yes, No, No internet service)\n",
    "- StreamingTV: Whether the customer has streaming TV or not (Yes, No, No internet service)\n",
    "- StreamingMovies: Whether the customer has streaming movies or not (Yes, No, No internet service)\n",
    "- Contract: The contract term of the customer (Month-to-month, One year, Two year)\n",
    "- PaperlessBilling: Whether the customer has paperless billing or not (Yes, No)\n",
    "- PaymentMethod: The customer’s payment method (Electronic check, Mailed check, Bank transfer (automatic), Credit card (automatic))\n",
    "- MonthlyCharges: The amount charged to the customer monthly\n",
    "- Churn: Whether the customer churned or not shortly after contract expiration (Yes or No)"
   ]
  },
  {
   "cell_type": "markdown",
   "metadata": {},
   "source": [
    "__1. Load the churn data. The code below will also transform your categorical variables into dummy variables. No points for this. This is just meant to help you get started.__"
   ]
  },
  {
   "cell_type": "code",
   "execution_count": 3,
   "metadata": {},
   "outputs": [],
   "source": [
    "import numpy as np\n",
    "import pandas as pd\n",
    "\n",
    "# Just change the path below so that it points to your file.\n",
    "data_path = \"./data-hw2.csv\" \n",
    "\n",
    "df = pd.read_csv(data_path)\n",
    "df = pd.get_dummies(df, drop_first=True)"
   ]
  },
  {
   "cell_type": "markdown",
   "metadata": {},
   "source": [
    "__2. Split the data into 80% training data and 20% test data.__"
   ]
  },
  {
   "cell_type": "code",
   "execution_count": 4,
   "metadata": {},
   "outputs": [],
   "source": [
    "# Your code goes here"
   ]
  },
  {
   "cell_type": "markdown",
   "metadata": {},
   "source": [
    "__3. Build the best model you can for each of the following three model types:__\n",
    "- __A decision tree classifier. Try different values for the parameter min_samples_leaf.__\n",
    "- __A logistic regression. Try different values for the parameter C.__\n",
    "- __A third model of your choice. Some suggestions: KNN, SVM, etc. Try different paramater values for this one too.__\n",
    "\n",
    "__Optimize in terms of their generalization performance using ROC Area and cross-validation with 10 folds. Remember to use only the training data (do not use the test data at all for this example). For each of these model types, you should report the best parameter value you found and the corresponding ROC Area in the cross-validation. Your code should also show the process you went through to try different complexity parameter(s) for each model type. Pick one model to move forward with. Why did you select this one?__\n",
    "\n",
    "__HINT: There is an example below of the ROC Area for a DecisionTreeClassifier using cross validation.__  "
   ]
  },
  {
   "cell_type": "code",
   "execution_count": 5,
   "metadata": {},
   "outputs": [
    {
     "name": "stdout",
     "output_type": "stream",
     "text": [
      "0.6698755287051471\n"
     ]
    }
   ],
   "source": [
    "# The code below is just meant as an example for you to compute the ROC Area using cross validation.\n",
    "\n",
    "from sklearn.tree import DecisionTreeClassifier\n",
    "from sklearn.model_selection import cross_val_score\n",
    "\n",
    "target = \"Churn_Yes\"\n",
    "predictors = df.columns[df.columns != target]\n",
    "example_model = DecisionTreeClassifier()\n",
    "# Remember to only use the training data here!!\n",
    "avg_auc = cross_val_score(example_model, df[predictors], df[target], cv=10, scoring=\"roc_auc\").mean()\n",
    "print(avg_auc)"
   ]
  },
  {
   "cell_type": "code",
   "execution_count": 6,
   "metadata": {},
   "outputs": [],
   "source": [
    "# Your code goes here"
   ]
  },
  {
   "cell_type": "markdown",
   "metadata": {},
   "source": [
    "__4. Use your test data to plot the ROC Curves for each of the three best models you found in the previous question (make sure to plot the three curves together). Would you consider changing the selected model after looking at the curves? If yes, explain why. If not, explain what would the curves need to look like for you to consider changing the selected model.__\n",
    "\n",
    "__HINT: There is an example below of the ROC curve for the DecisionTreeClassifier that was used earlier__"
   ]
  },
  {
   "cell_type": "code",
   "execution_count": 7,
   "metadata": {},
   "outputs": [
    {
     "data": {
      "image/png": "[encoded data removed]",
      "text/plain": [
       "<Figure size 432x288 with 1 Axes>"
      ]
     },
     "metadata": {
      "needs_background": "light"
     },
     "output_type": "display_data"
    }
   ],
   "source": [
    "# The code below is just meant as an example for you to plot the ROC curve.\n",
    "from sklearn.metrics import roc_curve\n",
    "import matplotlib.pyplot as plt\n",
    "\n",
    "# Remember to use the training data here!! \n",
    "example_model.fit(df[predictors], df[target])\n",
    "# And to use the test data here!!\n",
    "probs = example_model.predict_proba(df[predictors])[:, 1]\n",
    "fpr, tpr, thresholds = roc_curve(df[target], probs)\n",
    "plt.plot(fpr, tpr, label=\"An Example\")\n",
    "plt.ylabel(\"True positive rate\")\n",
    "plt.xlabel(\"False positive rate\")\n",
    "plt.legend()\n",
    "plt.show()"
   ]
  },
  {
   "cell_type": "code",
   "execution_count": 8,
   "metadata": {},
   "outputs": [],
   "source": [
    "# Your code goes here "
   ]
  },
  {
   "cell_type": "code",
   "execution_count": null,
   "metadata": {},
   "outputs": [],
   "source": []
  }
 ],
 "metadata": {
  "kernelspec": {
   "display_name": "Python 3 (ipykernel)",
   "language": "python",
   "name": "python3"
  },
  "language_info": {
   "codemirror_mode": {
    "name": "ipython",
    "version": 3
   },
   "file_extension": ".py",
   "mimetype": "text/x-python",
   "name": "python",
   "nbconvert_exporter": "python",
   "pygments_lexer": "ipython3",
   "version": "3.8.5"
  }
 },
 "nbformat": 4,
 "nbformat_minor": 5
}
