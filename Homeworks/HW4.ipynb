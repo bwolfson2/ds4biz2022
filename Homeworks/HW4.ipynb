{
 "cells": [
  {
   "cell_type": "markdown",
   "id": "dgqz_N-2Vmr-",
   "metadata": {
    "id": "dgqz_N-2Vmr-"
   },
   "source": [
    "To open notebook in Colab please click below:\n",
    "<a href=\"https://colab.research.google.com/github/bwolfson2/dsclass2022/blob/main/Homeworks/HW4.ipynb\" target=\"_parent\"> <img src=\"https://colab.research.google.com/assets/colab-badge.svg\" alt=\"Open In Colab\" /> </a>'"
   ]
  },
  {
   "cell_type": "code",
   "execution_count": null,
   "id": "ce5a069b",
   "metadata": {},
   "outputs": [],
   "source": [
    "#If opening in colab run this cell\n",
    "!git clone https://github.com/bwolfson2/dsclass2022\n",
    "%cd dsclass2022/Homeworks"
   ]
  },
  {
   "cell_type": "markdown",
   "id": "tight-cabinet",
   "metadata": {
    "id": "tight-cabinet"
   },
   "source": [
    "<span style=\"font-family: Palatino; font-size: 40px; color: purple\">\n",
    "             Homework - build a walk-forward testing harness \n",
    "</span>\n"
   ]
  },
  {
   "cell_type": "markdown",
   "id": "compact-conservation",
   "metadata": {
    "id": "compact-conservation"
   },
   "source": [
    "<span style=\"color:purple; font-size:25px\">\n",
    "    <b>Background</b>\n",
    "</span>"
   ]
  },
  {
   "cell_type": "markdown",
   "id": "standing-interim",
   "metadata": {
    "id": "standing-interim"
   },
   "source": [
    "### <span style=\"color:purple\"> Business context </span>"
   ]
  },
  {
   "cell_type": "markdown",
   "id": "hazardous-wichita",
   "metadata": {
    "id": "hazardous-wichita"
   },
   "source": [
    "**The senior management of the convenience store chain found your initial analysis useful.**\n",
    "\n",
    "**The CFO is still skeptical, though.  Before she will agree to use the models you have built, she wants to be comfortable that the analysis will hold-up in the future.  She has challenged you to convince her.**\n"
   ]
  },
  {
   "cell_type": "markdown",
   "id": "talented-thing",
   "metadata": {
    "id": "talented-thing"
   },
   "source": [
    "### <span style=\"color:purple\"> Mandate </span>"
   ]
  },
  {
   "cell_type": "markdown",
   "id": "flexible-inspection",
   "metadata": {
    "id": "flexible-inspection"
   },
   "source": [
    "In order to demonstrate the robustness of your models (or highlight the lack thereof) you will need to build a walk-forward testing harness:\n",
    "\n",
    "```python\n",
    "\n",
    "def walk_forward_harness(df, preprocessor, estimator, predictor, \n",
    "                         start, date_col = 'Date', step_size = 1):     \n",
    "    # your code here\n",
    "    return(pred)\n",
    "    \n",
    "def preprocessor(df, preproc_params = {}, new = True):\n",
    "    # your code here\n",
    "    return(df)\n",
    "    \n",
    "def estimator(df, fitting_algo, est_params = {}):\n",
    "    # your code here    \n",
    "    return(model_object)\n",
    "    \n",
    "def predictor(new_df, model):\n",
    "    # your code here\n",
    "    return(predictions)\n",
    "\n",
    "\n",
    "```\n",
    "where\n",
    "    \n",
    "\n",
    "| argument | Description| Returns |\n",
    "| :--   | -:-  | :-- |\n",
    "|`df, new_df`|  a Pandas `DataFrame` containing the data to be modeled       | None\n",
    "|`start`           |  a date index value after which to start the walk-forward test| None\n",
    "|`preprocessor`    |  a function that takes as input `df`: a Pandas `DataFrame` of raw data to be modeled, `preproc_params`: a list of preprocessing parameters if needed, and `new`: a flag indicating whether new parameters should be estimated | a list containing a Pandas DataFrame that contains the preprocessed data to be modeled, a list that is either empty or that contains any parameters estimated for preprocessing\n",
    "|`estimator`       |  a function that takes as input `df`: a Pandas `DataFrame` of data to be modeled, `fitting_algo`: a function that estimates the model, and `est_params`: any other arguments required. | a model object that can be read by `predictor`\n",
    "|`predictor`       |  a function that takes as input `new_df`: a Pandas `DataFrame` of raw data for which predictions should be generated, a `mod`: a model object estimated by `estimator`, `preprocessor`: see above, and any other arguments required         | a Pandas DataFrame containing one row for each row in the data frame"
   ]
  },
  {
   "cell_type": "markdown",
   "id": "animated-calcium",
   "metadata": {
    "id": "animated-calcium"
   },
   "source": [
    "### <span style=\"color:purple\"> Requirements</span>"
   ]
  },
  {
   "cell_type": "markdown",
   "id": "absent-hartford",
   "metadata": {
    "id": "absent-hartford"
   },
   "source": [
    "* Please use `statsmodels.api` for your analysis.  \n",
    "* Please use the data prior to 2014-07-01 as the initial training set for the first walkforward prediction.\n",
    "* Please assume that for any `Store` on any `Date`, you will always _know in advance_ (i.e., before the beginning of each day) the values of:\n",
    "  * `DayOfWeek`\n",
    "  * `Open`\n",
    "  * `Promo`\n",
    "  * `StateHoliday` and \n",
    "  * `SchoolHoliday`\n",
    "  * All of the information that was provided in the `Store.csv` file"
   ]
  },
  {
   "cell_type": "markdown",
   "id": "satisfied-mechanics",
   "metadata": {
    "id": "satisfied-mechanics"
   },
   "source": [
    "### <span style=\"color:purple\"> Data and models </span>"
   ]
  },
  {
   "cell_type": "markdown",
   "id": "integral-philip",
   "metadata": {
    "id": "integral-philip"
   },
   "source": [
    "Please use the code from the last homework for preprocessing the data and estimating the models you will analyze.  You do not need to refine the models you have already developed any further for this homework."
   ]
  },
  {
   "cell_type": "markdown",
   "id": "sufficient-efficiency",
   "metadata": {
    "id": "sufficient-efficiency"
   },
   "source": [
    "### <span style=\"color:purple\"> Helper functions </span>"
   ]
  },
  {
   "cell_type": "code",
   "execution_count": null,
   "id": "divided-profit",
   "metadata": {
    "id": "divided-profit"
   },
   "outputs": [],
   "source": [
    "def progress_bar(k, n, incr_txt=\"Step\", bar_len = 10):\n",
    "   \n",
    "    bar_char  = u'\\u25A5'\n",
    "    line_char = u'\\u21E2' # u'\\u2192'  u'\\u23AF' u'\\u25AD'\n",
    "    \n",
    "    places   = int(np.ceil(n/bar_len))\n",
    "    pct      = k/n\n",
    "    n_str    = \"{:,.0f}\".format(n)        \n",
    "    k_str    = \"{:,.0f}\".format(k)\n",
    "    pct_str  = \"{:,.0f}%\".format(k/n * 100)\n",
    "    # d_format = \"%\" + str(places) + \"d\"\n",
    "    \n",
    "    if k == n-1:\n",
    "        n_bars = bar_len\n",
    "        n_spaces = 0\n",
    "        text_txt = \"Completed \" + n_str + \" \" + incr_txt + \"s.\"\n",
    "    else:\n",
    "        n_bars   = int(np.floor(pct * bar_len))\n",
    "        n_spaces = bar_len - n_bars\n",
    "        text_txt = \" \" + pct_str +  \" (\" + incr_txt + \" \" + k_str + \" of  \" + n_str + \").\"\n",
    "\n",
    "    bar_txt  = \"[\" + \"\".ljust(n_bars,bar_char) + \"\".rjust(n_spaces,line_char) + \"]  \" \n",
    "\n",
    "    clear_output()\n",
    "    display(bar_txt + text_txt)"
   ]
  },
  {
   "cell_type": "markdown",
   "id": "executed-flash",
   "metadata": {
    "id": "executed-flash"
   },
   "source": [
    "# <span style=\"color:purple\"> The following is basic processing code </span>"
   ]
  },
  {
   "cell_type": "code",
   "execution_count": null,
   "id": "formed-living",
   "metadata": {
    "id": "formed-living",
    "run_control": {
     "marked": true
    }
   },
   "outputs": [],
   "source": [
    "import pandas as pd\n",
    "from IPython.display import HTML \n",
    "\n",
    "path = './retail_sales'\n",
    "\n",
    "fn           = 'retail_sales.csv'\n",
    "full_fn      = path+'/'+fn\n",
    "working_df   = pd.read_csv(full_fn)\n",
    "\n",
    "working_df.dropna(axis='index', subset=['Sales'],inplace=True)\n",
    "\n",
    "working_df['Date']         = pd.to_datetime(working_df['Date'], format='%Y-%m-%d')\n",
    "working_df['StateHoliday'] = working_df['StateHoliday'].astype('string')\n",
    "\n",
    "working_df = pd.get_dummies(working_df, columns=['DayOfWeek'], drop_first=True, dummy_na=False)\n",
    "working_df = pd.get_dummies(working_df, columns=['StateHoliday'], drop_first=True, dummy_na=False)"
   ]
  },
  {
   "cell_type": "markdown",
   "id": "AG_BIl5RBRhR",
   "metadata": {
    "id": "AG_BIl5RBRhR"
   },
   "source": [
    "# Q1: In your own words, please describe why walk-forward analysis is useful? What is a scenario when you would use it? When would it be wise to steer clear from using walkforward analysis? WORTH 2 POINTS"
   ]
  },
  {
   "cell_type": "code",
   "execution_count": null,
   "id": "UFvwvBlMIJMz",
   "metadata": {
    "id": "UFvwvBlMIJMz"
   },
   "outputs": [],
   "source": [
    "XXX # your written answer here"
   ]
  },
  {
   "cell_type": "markdown",
   "id": "secure-rally",
   "metadata": {
    "id": "secure-rally"
   },
   "source": [
    "# <span style=\"color:purple\"> Q2:  Please use your code from the previous homework to write the function `preprocessor`. </span>"
   ]
  },
  {
   "cell_type": "code",
   "execution_count": null,
   "id": "above-turner",
   "metadata": {
    "id": "above-turner"
   },
   "outputs": [],
   "source": [
    "import numpy as np\n",
    "import copy as cp\n",
    "\n",
    "def preprocessor(df, preproc_params = dict(), new = True):\n",
    " \n",
    "    working_df            = XXX   # eliminate observations for closed stores\n",
    "    working_df['lnSales'] = np.log(XXX+1)  # add 1 to account for for zero sales days\n",
    "\n",
    "    if new is XXX: \n",
    "        mu    = working_df.lnSales.mean()     # calculate mean for z-scores\n",
    "        sigma = working_df.lnSales.std()      # calculate sd for z-scores\n",
    "    else:\n",
    "        mu    = XXX #get mu from preprocess dict\n",
    "        sigma = XXX #get sigma from preprocess dict\n",
    "    \n",
    "    x     = np.array(working_df.lnSales)  # convert to np.array to permit vectorization\n",
    "    z     = ### take z score of x\n",
    "\n",
    "    working_df['zSales'] = z\n",
    "    working_df['lowSalesFlag'] = np.where(z < -1, 1,0)\n",
    "    df = cp.copy(working_df)\n",
    "    \n",
    "    ### set params\n",
    "    params          = preproc_params\n",
    "    params['mu']    = mu\n",
    "    params['sigma'] = sigma\n",
    "    \n",
    "    return([working_df, params])"
   ]
  },
  {
   "cell_type": "markdown",
   "id": "funky-wheel",
   "metadata": {
    "id": "funky-wheel"
   },
   "source": [
    "# <span style=\"color:purple\"> Q3: Please test your code on the training sample to confirm that it produces the same results as in the previous homework </span>"
   ]
  },
  {
   "cell_type": "code",
   "execution_count": null,
   "id": "imperial-florida",
   "metadata": {
    "colab": {
     "referenced_widgets": [
      "28b0a8156cca42fca4c0e6d3983d07b6"
     ]
    },
    "id": "imperial-florida",
    "outputId": "bfe666cd-c426-405c-8374-3d8ff8c5c498"
   },
   "outputs": [],
   "source": [
    "df_train_raw   = working_df.loc[working_df['Date'] < '2014-07-01']\n",
    "df_train, pars = preprocessor(XXX, preproc_params = XXX, new = XXX) ## dataframe, emtpy dictionary, is it new?\n",
    "print(pars)\n",
    "df_train.describe()"
   ]
  },
  {
   "cell_type": "markdown",
   "id": "wound-disorder",
   "metadata": {
    "id": "wound-disorder"
   },
   "source": [
    "# <span style=\"color:purple\"> Q4: Please use your code from the previous homework to write the function `estimator` _using the discrete choice models only_. </span> "
   ]
  },
  {
   "cell_type": "markdown",
   "id": "innovative-resource",
   "metadata": {
    "id": "innovative-resource"
   },
   "source": [
    "The easiest way to do this is to create a harness function for your estimation, e.g.,\n",
    "```python\n",
    "def my_estimation_fn(df):\n",
    "    import import statsmodels.formula.api as smf\n",
    "    \n",
    "    f = 'y ~ x1 + x2 + x3\n",
    "    model_ols = smf.ols(f, data=df).fit(disp=0)\n",
    "    return(model_ols)\n",
    "```\n",
    "\n",
    "Of course there are more elegant approaches to acomplishing this that would be more extensible, and you can experiment with these when you have the time."
   ]
  },
  {
   "cell_type": "code",
   "execution_count": null,
   "id": "temporal-mother",
   "metadata": {
    "id": "temporal-mother",
    "run_control": {
     "marked": true
    },
    "scrolled": true
   },
   "outputs": [],
   "source": [
    "import statsmodels.formula.api as smf\n",
    "\n",
    "def my_estimation_ols_fn(df):\n",
    "    f = 'lnSales ~ XXX' #formula\n",
    "    model = smf.ols(f, data =  XXX).fit() #dataframe \n",
    "    return(model)"
   ]
  },
  {
   "cell_type": "code",
   "execution_count": null,
   "id": "coral-watch",
   "metadata": {
    "id": "coral-watch",
    "run_control": {
     "marked": false
    },
    "scrolled": true
   },
   "outputs": [],
   "source": [
    "import statsmodels.formula.api as smf\n",
    "\n",
    "def my_estimation_logit_fn(df):\n",
    "    XXX #same function as above but with logit"
   ]
  },
  {
   "cell_type": "markdown",
   "id": "alike-colorado",
   "metadata": {
    "id": "alike-colorado"
   },
   "source": [
    "# <span style=\"color:purple\"> Q5: Please test your `estimator` function using the same training data you used in the previous homework and confirm that the results match your previous results. </span>"
   ]
  },
  {
   "cell_type": "code",
   "execution_count": null,
   "id": "optical-executive",
   "metadata": {
    "id": "optical-executive",
    "outputId": "209621bc-c2fa-4e31-b7bd-7e2b5056f305"
   },
   "outputs": [],
   "source": [
    "model_logit = my_estimation_logit_fn(XXX) #training data\n",
    "model_logit.summary()"
   ]
  },
  {
   "cell_type": "markdown",
   "id": "polished-gates",
   "metadata": {
    "id": "polished-gates"
   },
   "source": [
    " \n",
    "#  <span style=\"color:purple\"> Q6:  Please use your code from the previous homework to write the function `predictor`.</span>"
   ]
  },
  {
   "cell_type": "code",
   "execution_count": null,
   "id": "worst-prescription",
   "metadata": {
    "id": "worst-prescription"
   },
   "outputs": [],
   "source": [
    "def predictor(new_df, model):\n",
    "    pred = model.predict(XXX) #dataframe\n",
    "    return(pred)"
   ]
  },
  {
   "cell_type": "markdown",
   "id": "aerial-sperm",
   "metadata": {
    "id": "aerial-sperm"
   },
   "source": [
    "# <span style=\"color:purple\"> Q7: Please test your `predictor` function using the same training data you used in the previous homework and confirm that the results match your previous results. </span>"
   ]
  },
  {
   "cell_type": "code",
   "execution_count": null,
   "id": "talented-vampire",
   "metadata": {
    "id": "talented-vampire",
    "outputId": "a1225dcb-ea19-4ddf-d39a-b584822c93a1",
    "scrolled": true
   },
   "outputs": [],
   "source": [
    "from sklearn import metrics\n",
    "\n",
    "df_train     = working_df.loc[working_df['Date'] < '2014-07-01']\n",
    "new_df, pars = preprocessor(df_train, preproc_params = {}, new = True)\n",
    "p_baseline   = np.mean(new_df['lowSalesFlag'])\n",
    "\n",
    "pred         = XXX #predictor function along with model\n",
    "\n",
    "predictor_cols = model_logit.params.index.values.tolist()\n",
    "target_col     = 'lowSalesFlag'\n",
    "act            = new_df[target_col]\n",
    "\n",
    "coef           = model_logit.params.values.tolist()\n",
    "pred_bin             = np.where(pred > p_baseline, True, False)    # sk.metrics needs discrete valued data \n",
    "pred_df = pd.DataFrame({\"actual\":act, \"predicted\":pred_bin})\n",
    "\n",
    "model_logit_accuracy = metrics.accuracy_score(pred_bin, act)   \n",
    "\n",
    "print(\"Accuracy (sklearn): \",np.round(model_logit_accuracy,2))\n",
    "print()"
   ]
  },
  {
   "cell_type": "markdown",
   "id": "amateur-combination",
   "metadata": {
    "id": "amateur-combination"
   },
   "source": [
    "# <span style=\"color:purple\"> Q9: Please write your `walk_forward_harness` function. (THIS QUESTION IS WORTH 3 POINTS)\n",
    "For credit, please use the python `pipe` package to implement this functionality.  </span>"
   ]
  },
  {
   "cell_type": "code",
   "execution_count": null,
   "id": "happy-paste",
   "metadata": {
    "id": "happy-paste",
    "run_control": {
     "marked": false
    }
   },
   "outputs": [],
   "source": [
    "# from pipe import Pipe, dedup, groupby, where, select, sort, traverse\n",
    "from datetime import date as d\n",
    "from IPython.display import display, clear_output\n",
    "import copy as cp\n",
    "\n",
    "import statsmodels.formula.api as smf\n",
    "from loguru import logger \n",
    "import snoop\n",
    "\n",
    "# @snoop(watch=('pred_df', 'results_set'))\n",
    "def walk_forward_harness(df, preprocessor, estimation_algo, predictor, \n",
    "                         start = 1, step_size = 1,\n",
    "                         actual_col = \"Actual\", date_col = 'Date', id_col = None,  \n",
    "                         preproc_params = {}):\n",
    "    \n",
    "    if id_col is None:\n",
    "        ID = DataFrame(data={'ID': range(len(date))})\n",
    "    else:\n",
    "        ID = df[id_col]\n",
    "        \n",
    "    date = df[date_col]\n",
    "        \n",
    "    idx_raw     = set(date)\n",
    "    idx_unique  = list(idx_raw)\n",
    "    idx         = sorted(idx_unique)\n",
    "    n           = len(idx)\n",
    "    \n",
    "    start_date  = d.fromisoformat(start)\n",
    "    history_idx = [d for d in idx if d < start_date]\n",
    "    n_history   = len(history_idx)\n",
    "    \n",
    "    steps       = n - n_history - step_size\n",
    "    \n",
    "    if steps < 1:\n",
    "        print(\"Insufficient data after cutoff to perform walk forward.\")\n",
    "        return(None)\n",
    "    else:\n",
    "        initialize_result_set = True\n",
    "        results_set = None\n",
    "        \n",
    "        for i in range(steps):\n",
    "            progress_bar(i, steps, incr_txt = \"WF step\", bar_len = 20)\n",
    "            \n",
    "            cutoff        = n_history + i\n",
    "            wf_next_step  = idx[cutoff + step_size] \n",
    "            \n",
    "            train_filt    = XXX # boolean filter for the training data for this run\n",
    "            test_filt     = XXX # boolean filter for the test data for this run\n",
    "            \n",
    "            train_df      = df.loc[XXX, :]  # select using train_filt\n",
    "            test_df       = df.loc[XXX, :]  # select using test_filt\n",
    "\n",
    "            new_train_df, pars  = XXX #invoke preprocessor with correct arg \n",
    "            model         = XXX #fit model using estimation algorithms\n",
    "            \n",
    "            new_test_df, pars    = XXX ### preprocess test_df\n",
    "            pred            = XXX ### use predictor to predict test df\n",
    "            actual          = cp.copy(new_test_df[actual_col])\n",
    "            pred_dates      = cp.copy(new_test_df[date_col])\n",
    "            ID_range        = cp.copy(ID.loc[test_filt])\n",
    "            pred_df         = pd.DataFrame({date_col: pred_dates, 'predicted': pred, 'actual': actual, 'ID' : ID_range})\n",
    "          \n",
    "            if initialize_result_set == True:\n",
    "                results_set = [cp.deepcopy(pred_df)]\n",
    "                initialize_result_set = False\n",
    "            else:\n",
    "                results_set.append(pred_df)\n",
    "\n",
    "    results_set = pd.concat(results_set, ignore_index=True)\n",
    "    results_set = results_set.dropna()\n",
    "    return(results_set)"
   ]
  },
  {
   "cell_type": "markdown",
   "id": "demanding-interest",
   "metadata": {
    "id": "demanding-interest"
   },
   "source": [
    "# <span style=\"color:purple\"> Q8: Please test your `walk_forward_harness` function</span>"
   ]
  },
  {
   "cell_type": "code",
   "execution_count": null,
   "id": "statutory-ultimate",
   "metadata": {
    "id": "statutory-ultimate",
    "outputId": "79d3c77e-00b1-4948-abe6-e423da85f160",
    "run_control": {
     "marked": true
    }
   },
   "outputs": [],
   "source": [
    "results_set = walk_forward_harness(XXXX, XXXX, my_estimation_logit_fn, predictor, \n",
    "                                   start='2015-06-01', step_size = 1,\n",
    "                                   actual_col = 'lowSalesFlag', date_col = 'Date', id_col = 'Store',\n",
    "                                   preproc_params = {}) #model and preprocessor "
   ]
  },
  {
   "cell_type": "markdown",
   "id": "owned-coordinate",
   "metadata": {
    "id": "owned-coordinate"
   },
   "source": [
    "# <span style=\"color:purple\"> Q9: Please plot the following ROC curves: </span>"
   ]
  },
  {
   "cell_type": "markdown",
   "id": "sunset-statement",
   "metadata": {
    "id": "sunset-statement"
   },
   "source": [
    "## <span style=\"color:purple\"> ROC curve and AUC for __all__ predictions </span> "
   ]
  },
  {
   "cell_type": "code",
   "execution_count": null,
   "id": "LUa49Co1UQfm",
   "metadata": {
    "id": "LUa49Co1UQfm"
   },
   "outputs": [],
   "source": [
    "#helper func\n",
    "def plot_roc(fpr,tpr,roc_auc):\n",
    "  plt.figure()\n",
    "  lw = 2\n",
    "  plt.plot(\n",
    "      fpr,\n",
    "      tpr,\n",
    "      color=\"darkblue\",\n",
    "      lw=lw,\n",
    "      label=\"ROC curve (area = %0.2f)\" % roc_auc,\n",
    "  )\n",
    "  plt.plot([0, 1], [0, 1], color=\"navy\", lw=lw, linestyle=\"--\")\n",
    "  plt.xlim([0.0, 1.0])\n",
    "  plt.ylim([0.0, 1.05])\n",
    "  plt.xlabel(\"False Positive Rate\")\n",
    "  plt.ylabel(\"True Positive Rate\")\n",
    "  plt.title(\"Receiver operating characteristic for predictions on Wednesday\")\n",
    "  plt.legend(loc=\"lower right\")\n",
    "  plt.show()"
   ]
  },
  {
   "cell_type": "code",
   "execution_count": null,
   "id": "piano-playing",
   "metadata": {
    "id": "piano-playing",
    "outputId": "5eda63e4-4bfc-40e3-c2f8-ee0218018fba"
   },
   "outputs": [],
   "source": [
    "import matplotlib.pyplot as plt\n",
    "from sklearn.metrics import roc_curve, auc, roc_auc_score\n",
    "\n",
    "dep_var_name = model_logit.model.endog_names\n",
    "\n",
    "pred              = results_set[XXX] #column to use for predicted\n",
    "act               = results_set[XXX] #column to use for actual\n",
    "\n",
    "fpr, tpr, _  = ### use the roc_curve function\n",
    "roc_auc           = ### use the auc function\n",
    "\n",
    "plot_roc(fpr,tpr,roc_auc)"
   ]
  },
  {
   "cell_type": "markdown",
   "id": "powered-sleeve",
   "metadata": {
    "id": "powered-sleeve"
   },
   "source": [
    "## <span style=\"color:purple\"> ROC curve and AUC for Wednesday predictions </span> \n",
    "You can use the Pandas function pandas.dt.dayofweek to pick the day.  Wendesday in Pandas is 2.  \n",
    "\n",
    "See documentation  (https://pandas.pydata.org/docs/reference/api/pandas.DatetimeIndex.dayofweek.html)"
   ]
  },
  {
   "cell_type": "code",
   "execution_count": null,
   "id": "2Bfl2_RYUGt0",
   "metadata": {
    "id": "2Bfl2_RYUGt0"
   },
   "outputs": [],
   "source": []
  },
  {
   "cell_type": "code",
   "execution_count": null,
   "id": "bearing-limitation",
   "metadata": {
    "id": "bearing-limitation",
    "outputId": "cb559363-4da7-476c-e568-c73b646c64aa",
    "scrolled": true
   },
   "outputs": [],
   "source": [
    "WED = 2\n",
    "dep_var_name = model_logit.model.endog_names\n",
    "\n",
    "pred              = results_set[XXX] #colum to use\n",
    "act               = results_set[XXX] #colum to use\n",
    "\n",
    "## isolate wedneday if needed\n",
    "filt = XXX ## boolean filter to select Wednesdaya\n",
    "\n",
    "#the following results should only be for Wednesday\n",
    "fpr, tpr, thresh  = ### use the roc_curve function MAKE SURE TO SELECT WENDESDAY as the date\n",
    "roc_auc           = ### use the auc function MAKE SURE TO SELECT WENDESDAY as the date\n",
    "\n"
   ]
  }
 ],
 "metadata": {
  "colab": {
   "collapsed_sections": [],
   "name": "HW4.ipynb",
   "provenance": []
  },
  "kernelspec": {
   "display_name": "Python 3 (ipykernel)",
   "language": "python",
   "name": "python3"
  },
  "language_info": {
   "codemirror_mode": {
    "name": "ipython",
    "version": 3
   },
   "file_extension": ".py",
   "mimetype": "text/x-python",
   "name": "python",
   "nbconvert_exporter": "python",
   "pygments_lexer": "ipython3",
   "version": "3.9.5"
  },
  "latex_envs": {
   "LaTeX_envs_menu_present": true,
   "autoclose": false,
   "autocomplete": true,
   "bibliofile": "biblio.bib",
   "cite_by": "apalike",
   "current_citInitial": 1,
   "eqLabelWithNumbers": true,
   "eqNumInitial": 1,
   "hotkeys": {
    "equation": "Ctrl-E",
    "itemize": "Ctrl-I"
   },
   "labels_anchors": false,
   "latex_user_defs": false,
   "report_style_numbering": false,
   "user_envs_cfg": false
  },
  "toc": {
   "base_numbering": 1,
   "nav_menu": {},
   "number_sections": true,
   "sideBar": true,
   "skip_h1_title": false,
   "title_cell": "Table of Contents",
   "title_sidebar": "Contents",
   "toc_cell": false,
   "toc_position": {},
   "toc_section_display": true,
   "toc_window_display": false
  },
  "varInspector": {
   "cols": {
    "lenName": 16,
    "lenType": 16,
    "lenVar": 40
   },
   "kernels_config": {
    "python": {
     "delete_cmd_postfix": "",
     "delete_cmd_prefix": "del ",
     "library": "var_list.py",
     "varRefreshCmd": "print(var_dic_list())"
    },
    "r": {
     "delete_cmd_postfix": ") ",
     "delete_cmd_prefix": "rm(",
     "library": "var_list.r",
     "varRefreshCmd": "cat(var_dic_list()) "
    }
   },
   "types_to_exclude": [
    "module",
    "function",
    "builtin_function_or_method",
    "instance",
    "_Feature"
   ],
   "window_display": false
  }
 },
 "nbformat": 4,
 "nbformat_minor": 5
}
